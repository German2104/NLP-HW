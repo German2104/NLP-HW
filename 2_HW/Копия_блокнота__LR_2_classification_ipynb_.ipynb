{
  "cells": [
    {
      "cell_type": "markdown",
      "metadata": {
        "id": "g24inknOdWKf"
      },
      "source": [
        "***DeadLine - 10.10.2024 23:59***"
      ]
    },
    {
      "cell_type": "markdown",
      "metadata": {
        "id": "VOS-vyTqVd6n"
      },
      "source": [
        "### ЛР. Часть I: Делаем спамкилерра (1 points)\n",
        "\n",
        "__В этом ноутбуке__ вы создадите алгоритм, который классифицирует комментарии в социальных сетях на нормальные и токсичные.\n",
        "\n",
        "Как и во многих других реальных случаях, у вас есть только небольшой (10^3) набор данных из помеченных вручную примеров для работы. Мы будем решать эту задачу, используя как классику NLP, так и подход, основанный на эмбеддингах\n",
        "\n",
        "comments.tsv - можно получить по ссылке https://disk.yandex.ru/d/Lf2ImAdQSLmI7w"
      ]
    },
    {
      "cell_type": "code",
      "execution_count": 25,
      "metadata": {},
      "outputs": [
        {
          "name": "stdout",
          "output_type": "stream",
          "text": [
            "Requirement already satisfied: pandas in ./.venv/lib/python3.11/site-packages (2.3.0)\n",
            "Requirement already satisfied: matplotlib in ./.venv/lib/python3.11/site-packages (3.10.3)\n",
            "Requirement already satisfied: scikit-learn in ./.venv/lib/python3.11/site-packages (1.7.0)\n",
            "Requirement already satisfied: nltk in ./.venv/lib/python3.11/site-packages (3.9.1)\n",
            "Requirement already satisfied: numpy in ./.venv/lib/python3.11/site-packages (1.26.4)\n",
            "Requirement already satisfied: torch in ./.venv/lib/python3.11/site-packages (2.7.1)\n",
            "Requirement already satisfied: python-dateutil>=2.8.2 in ./.venv/lib/python3.11/site-packages (from pandas) (2.9.0.post0)\n",
            "Requirement already satisfied: pytz>=2020.1 in ./.venv/lib/python3.11/site-packages (from pandas) (2025.2)\n",
            "Requirement already satisfied: tzdata>=2022.7 in ./.venv/lib/python3.11/site-packages (from pandas) (2025.2)\n",
            "Requirement already satisfied: contourpy>=1.0.1 in ./.venv/lib/python3.11/site-packages (from matplotlib) (1.3.2)\n",
            "Requirement already satisfied: cycler>=0.10 in ./.venv/lib/python3.11/site-packages (from matplotlib) (0.12.1)\n",
            "Requirement already satisfied: fonttools>=4.22.0 in ./.venv/lib/python3.11/site-packages (from matplotlib) (4.58.4)\n",
            "Requirement already satisfied: kiwisolver>=1.3.1 in ./.venv/lib/python3.11/site-packages (from matplotlib) (1.4.8)\n",
            "Requirement already satisfied: packaging>=20.0 in ./.venv/lib/python3.11/site-packages (from matplotlib) (25.0)\n",
            "Requirement already satisfied: pillow>=8 in ./.venv/lib/python3.11/site-packages (from matplotlib) (11.2.1)\n",
            "Requirement already satisfied: pyparsing>=2.3.1 in ./.venv/lib/python3.11/site-packages (from matplotlib) (3.2.3)\n",
            "Requirement already satisfied: scipy>=1.8.0 in ./.venv/lib/python3.11/site-packages (from scikit-learn) (1.13.1)\n",
            "Requirement already satisfied: joblib>=1.2.0 in ./.venv/lib/python3.11/site-packages (from scikit-learn) (1.5.1)\n",
            "Requirement already satisfied: threadpoolctl>=3.1.0 in ./.venv/lib/python3.11/site-packages (from scikit-learn) (3.6.0)\n",
            "Requirement already satisfied: click in ./.venv/lib/python3.11/site-packages (from nltk) (8.2.1)\n",
            "Requirement already satisfied: regex>=2021.8.3 in ./.venv/lib/python3.11/site-packages (from nltk) (2024.11.6)\n",
            "Requirement already satisfied: tqdm in ./.venv/lib/python3.11/site-packages (from nltk) (4.67.1)\n",
            "Requirement already satisfied: filelock in ./.venv/lib/python3.11/site-packages (from torch) (3.18.0)\n",
            "Requirement already satisfied: typing-extensions>=4.10.0 in ./.venv/lib/python3.11/site-packages (from torch) (4.14.0)\n",
            "Requirement already satisfied: sympy>=1.13.3 in ./.venv/lib/python3.11/site-packages (from torch) (1.14.0)\n",
            "Requirement already satisfied: networkx in ./.venv/lib/python3.11/site-packages (from torch) (3.5)\n",
            "Requirement already satisfied: jinja2 in ./.venv/lib/python3.11/site-packages (from torch) (3.1.6)\n",
            "Requirement already satisfied: fsspec in ./.venv/lib/python3.11/site-packages (from torch) (2025.5.1)\n",
            "Requirement already satisfied: nvidia-cuda-nvrtc-cu12==12.6.77 in ./.venv/lib/python3.11/site-packages (from torch) (12.6.77)\n",
            "Requirement already satisfied: nvidia-cuda-runtime-cu12==12.6.77 in ./.venv/lib/python3.11/site-packages (from torch) (12.6.77)\n",
            "Requirement already satisfied: nvidia-cuda-cupti-cu12==12.6.80 in ./.venv/lib/python3.11/site-packages (from torch) (12.6.80)\n",
            "Requirement already satisfied: nvidia-cudnn-cu12==9.5.1.17 in ./.venv/lib/python3.11/site-packages (from torch) (9.5.1.17)\n",
            "Requirement already satisfied: nvidia-cublas-cu12==12.6.4.1 in ./.venv/lib/python3.11/site-packages (from torch) (12.6.4.1)\n",
            "Requirement already satisfied: nvidia-cufft-cu12==11.3.0.4 in ./.venv/lib/python3.11/site-packages (from torch) (11.3.0.4)\n",
            "Requirement already satisfied: nvidia-curand-cu12==10.3.7.77 in ./.venv/lib/python3.11/site-packages (from torch) (10.3.7.77)\n",
            "Requirement already satisfied: nvidia-cusolver-cu12==11.7.1.2 in ./.venv/lib/python3.11/site-packages (from torch) (11.7.1.2)\n",
            "Requirement already satisfied: nvidia-cusparse-cu12==12.5.4.2 in ./.venv/lib/python3.11/site-packages (from torch) (12.5.4.2)\n",
            "Requirement already satisfied: nvidia-cusparselt-cu12==0.6.3 in ./.venv/lib/python3.11/site-packages (from torch) (0.6.3)\n",
            "Requirement already satisfied: nvidia-nccl-cu12==2.26.2 in ./.venv/lib/python3.11/site-packages (from torch) (2.26.2)\n",
            "Requirement already satisfied: nvidia-nvtx-cu12==12.6.77 in ./.venv/lib/python3.11/site-packages (from torch) (12.6.77)\n",
            "Requirement already satisfied: nvidia-nvjitlink-cu12==12.6.85 in ./.venv/lib/python3.11/site-packages (from torch) (12.6.85)\n",
            "Requirement already satisfied: nvidia-cufile-cu12==1.11.1.6 in ./.venv/lib/python3.11/site-packages (from torch) (1.11.1.6)\n",
            "Requirement already satisfied: triton==3.3.1 in ./.venv/lib/python3.11/site-packages (from torch) (3.3.1)\n",
            "Requirement already satisfied: setuptools>=40.8.0 in ./.venv/lib/python3.11/site-packages (from triton==3.3.1->torch) (65.5.0)\n",
            "Requirement already satisfied: six>=1.5 in ./.venv/lib/python3.11/site-packages (from python-dateutil>=2.8.2->pandas) (1.17.0)\n",
            "Requirement already satisfied: mpmath<1.4,>=1.1.0 in ./.venv/lib/python3.11/site-packages (from sympy>=1.13.3->torch) (1.3.0)\n",
            "Requirement already satisfied: MarkupSafe>=2.0 in ./.venv/lib/python3.11/site-packages (from jinja2->torch) (3.0.2)\n",
            "Note: you may need to restart the kernel to use updated packages.\n"
          ]
        }
      ],
      "source": [
        "%pip install pandas matplotlib scikit-learn nltk numpy torch\n",
        "\n",
        "%matplotlib inline\n",
        "\n",
        "import matplotlib.pyplot as plt"
      ]
    },
    {
      "cell_type": "code",
      "execution_count": 26,
      "metadata": {
        "id": "INuwrTmOVd6o"
      },
      "outputs": [
        {
          "data": {
            "text/html": [
              "<div>\n",
              "<style scoped>\n",
              "    .dataframe tbody tr th:only-of-type {\n",
              "        vertical-align: middle;\n",
              "    }\n",
              "\n",
              "    .dataframe tbody tr th {\n",
              "        vertical-align: top;\n",
              "    }\n",
              "\n",
              "    .dataframe thead th {\n",
              "        text-align: right;\n",
              "    }\n",
              "</style>\n",
              "<table border=\"1\" class=\"dataframe\">\n",
              "  <thead>\n",
              "    <tr style=\"text-align: right;\">\n",
              "      <th></th>\n",
              "      <th>should_ban</th>\n",
              "      <th>comment_text</th>\n",
              "    </tr>\n",
              "  </thead>\n",
              "  <tbody>\n",
              "    <tr>\n",
              "      <th>50</th>\n",
              "      <td>0</td>\n",
              "      <td>\"Those who're in advantageous positions are th...</td>\n",
              "    </tr>\n",
              "    <tr>\n",
              "      <th>250</th>\n",
              "      <td>1</td>\n",
              "      <td>Fartsalot56 says f**k you motherclucker!!</td>\n",
              "    </tr>\n",
              "    <tr>\n",
              "      <th>450</th>\n",
              "      <td>1</td>\n",
              "      <td>Are you a fool? \\n\\nI am sorry, but you seem t...</td>\n",
              "    </tr>\n",
              "    <tr>\n",
              "      <th>650</th>\n",
              "      <td>1</td>\n",
              "      <td>I AM NOT A VANDAL!!!!!!!!!!!!!!!!!!!!!!!!!!!!!!</td>\n",
              "    </tr>\n",
              "    <tr>\n",
              "      <th>850</th>\n",
              "      <td>0</td>\n",
              "      <td>Citing sources\\n\\nCheck out the Wikipedia:Citi...</td>\n",
              "    </tr>\n",
              "  </tbody>\n",
              "</table>\n",
              "</div>"
            ],
            "text/plain": [
              "     should_ban                                       comment_text\n",
              "50            0  \"Those who're in advantageous positions are th...\n",
              "250           1          Fartsalot56 says f**k you motherclucker!!\n",
              "450           1  Are you a fool? \\n\\nI am sorry, but you seem t...\n",
              "650           1    I AM NOT A VANDAL!!!!!!!!!!!!!!!!!!!!!!!!!!!!!!\n",
              "850           0  Citing sources\\n\\nCheck out the Wikipedia:Citi..."
            ]
          },
          "execution_count": 26,
          "metadata": {},
          "output_type": "execute_result"
        }
      ],
      "source": [
        "import pandas as pd\n",
        "data = pd.read_csv(\"comments.tsv\", sep='\\t')\n",
        "\n",
        "texts = data['comment_text'].values\n",
        "target = data['should_ban'].values\n",
        "data[50::200]\n"
      ]
    },
    {
      "cell_type": "code",
      "execution_count": 27,
      "metadata": {
        "id": "t56X1QZ-Vd6p"
      },
      "outputs": [],
      "source": [
        "from sklearn.model_selection import train_test_split\n",
        "texts_train, texts_test, y_train, y_test = train_test_split(texts, target, test_size=0.5, random_state=42)"
      ]
    },
    {
      "cell_type": "markdown",
      "metadata": {
        "id": "VwTTatjqVd6p"
      },
      "source": [
        "__Примечание:__ как правило, лучшей практикой является разделение данных на train/test перед тем, как с ними что-то делать.\n",
        "\n",
        "Потому что тогда вы значительно снижаете риск дата лика\n"
      ]
    },
    {
      "cell_type": "markdown",
      "metadata": {
        "id": "VJ-PLXrfVd6q"
      },
      "source": [
        "### Preprocessing and tokenization\n",
        "\n",
        "Комментарии содержат необработанный текст с пунктуацией, заглавными/прописными буквами и даже символами новой строки.\n",
        "\n",
        "Чтобы упростить все дальнейшие действия, мы разобьем текст на токены, разделенные пробелами, с помощью одного из токенизаторов nltk."
      ]
    },
    {
      "cell_type": "code",
      "execution_count": 28,
      "metadata": {
        "id": "lbDJPeUEVd6q"
      },
      "outputs": [
        {
          "name": "stdout",
          "output_type": "stream",
          "text": [
            "before: How to be a grown-up at work: replace \"fuck you\" with \"Ok, great!\".\n",
            "after: how to be a grown-up at work : replace \" fuck you \" with \" ok , great ! \" .\n"
          ]
        }
      ],
      "source": [
        "from nltk.tokenize import TweetTokenizer\n",
        "tokenizer = TweetTokenizer()\n",
        "preprocess = lambda text: ' '.join(tokenizer.tokenize(text.lower()))\n",
        "\n",
        "text = 'How to be a grown-up at work: replace \"fuck you\" with \"Ok, great!\".'\n",
        "print(\"before:\", text,)\n",
        "print(\"after:\", preprocess(text),)"
      ]
    },
    {
      "cell_type": "code",
      "execution_count": 29,
      "metadata": {
        "id": "vKbsyc9ZVd6r"
      },
      "outputs": [],
      "source": [
        "# task: preprocess each comment in train and test\n",
        "\n",
        "texts_train = [preprocess(line) for line in texts_train]\n",
        "texts_test = [preprocess(line) for line in texts_test]"
      ]
    },
    {
      "cell_type": "code",
      "execution_count": 30,
      "metadata": {
        "id": "-GNP9j-TVd6s"
      },
      "outputs": [],
      "source": [
        "assert texts_train[5] ==  'who cares anymore . they attack with impunity .'\n",
        "assert texts_test[89] == 'hey todds ! quick q ? why are you so gay'\n",
        "assert len(texts_test) == len(y_test)"
      ]
    },
    {
      "cell_type": "markdown",
      "metadata": {
        "id": "r0uFtYZiVd6s"
      },
      "source": [
        "### Solving it: bag of words\n",
        "\n",
        "![img](http://www.novuslight.com/uploads/n/BagofWords.jpg)\n",
        "\n",
        "Один из классических подходов к снаряду - использование мешка слов:\n",
        "1. создайте словарь часто встречающихся слов (используйте только обучающие данные)\n",
        "2. считайте это количество признаком для некоторого классификатора.\n",
        "\n",
        "Примечание:__ на практике вы можете вычислить такие признаки с помощью sklearn. Однако это запрещено в текущем задании.\n",
        "* из `sklearn.feature_extraction.text import CountVectorizer, TfidfVectorizer`"
      ]
    },
    {
      "cell_type": "code",
      "execution_count": 31,
      "metadata": {
        "id": "tpl5eDY6Vd6s"
      },
      "outputs": [
        {
          "name": "stdout",
          "output_type": "stream",
          "text": [
            "example features: ['!', '12:20', '300', '_', 'adorned', 'alternative', 'archive', 'average', 'benkner', 'bout', 'came', 'chest', 'combined', 'consumers', 'cricket', 'decisions', 'dickheads', 'domestic', 'eductaion', 'essentially', 'faggot', 'firms', 'frustrated', 'goal', 'hanibal', 'hip-hop', 'identified', 'infoboxes', 'issue', 'kindergarten', 'lets', 'lot', \"mclaren's\", 'moderator', 'naturally', 'noticeable', 'opposing', 'pdf', 'plant', 'pretoria', 'punctuation', 'rebels', 'repetative', 'riadh', 'schulz', 'shes', 'slit', 'spoof', 'stupid', 't', 'theoretical', 'topic', 'uglyness', 'userspace', 'wanted', 'wikieditor', 'year', '←']\n"
          ]
        }
      ],
      "source": [
        "# task: find up to k most frequent tokens in texts_train,\n",
        "# sort them by number of occurences (highest first)\n",
        "import numpy as np\n",
        "from collections import Counter\n",
        "k = 10000\n",
        "\n",
        "token_counts = Counter()\n",
        "for text in texts_train:\n",
        "    tokens = text.split()\n",
        "    token_counts.update(tokens)\n",
        "bow_vocabulary = [token for token, _ in token_counts.most_common(k)]\n",
        "\n",
        "print('example features:', sorted(bow_vocabulary)[::100])"
      ]
    },
    {
      "cell_type": "code",
      "execution_count": 32,
      "metadata": {
        "id": "wY7gVxQXVd6t"
      },
      "outputs": [],
      "source": [
        "def text_to_bow(text):\n",
        "    \"\"\" convert text string to an array of token counts. Use bow_vocabulary. \"\"\"\n",
        "    tokens = text.split()\n",
        "    counts = Counter(tokens)\n",
        "\n",
        "    # Порядок должен соответствовать bow_vocabulary\n",
        "    vector = [counts.get(token, 0) for token in bow_vocabulary]\n",
        "\n",
        "    return np.array(vector, 'float32')"
      ]
    },
    {
      "cell_type": "code",
      "execution_count": 33,
      "metadata": {
        "id": "nOgCZVhfVd6t"
      },
      "outputs": [],
      "source": [
        "X_train_bow = np.stack(list(map(text_to_bow, texts_train)))\n",
        "X_test_bow = np.stack(list(map(text_to_bow, texts_test)))"
      ]
    },
    {
      "cell_type": "code",
      "execution_count": 34,
      "metadata": {
        "id": "gj1svYdmVd6t"
      },
      "outputs": [
        {
          "name": "stdout",
          "output_type": "stream",
          "text": [
            "5707\n"
          ]
        }
      ],
      "source": [
        "k_max = len(set(' '.join(texts_train).split()))\n",
        "print(k_max)\n",
        "assert X_train_bow.shape == (len(texts_train), min(k, k_max))\n",
        "assert X_test_bow.shape == (len(texts_test), min(k, k_max))\n",
        "assert np.all(X_train_bow[5:10].sum(-1) == np.array([len(s.split()) for s in  texts_train[5:10]]))\n",
        "assert len(bow_vocabulary) <= min(k, k_max)\n",
        "assert X_train_bow[6, bow_vocabulary.index('.')] == texts_train[6].split().count('.')"
      ]
    },
    {
      "cell_type": "markdown",
      "metadata": {
        "id": "p7QlrEk2Vd6t"
      },
      "source": [
        "__Naive Bayes:__ возможно, самая простая модель, которая может решить вашу проблему, - это так называемый классификатор Naive Bayes.\n",
        "\n",
        "Если вы не помните математику, лежащую в основе Naive Bayes - посмотрите лекцию / загуглите"
      ]
    },
    {
      "cell_type": "code",
      "execution_count": 35,
      "metadata": {
        "id": "ogQthOatVd6u"
      },
      "outputs": [],
      "source": [
        "import numpy as np\n",
        "\n",
        "class BinaryNaiveBayes:\n",
        "    \"\"\"\n",
        "    Двоичный наивный байесовский классификатор для bag-of-words.\n",
        "    Класс 0 — negative, класс 1 — positive.\n",
        "    \"\"\"\n",
        "    def __init__(self, delta: float = 1.0):\n",
        "        # Лапласово сглаживание\n",
        "        self.delta = delta\n",
        "\n",
        "    def fit(self, X: np.ndarray, y: np.ndarray) -> \"BinaryNaiveBayes\":\n",
        "        n_samples, vocab_size = X.shape\n",
        "\n",
        "        # 1) Априорные p(y)\n",
        "        sum_pos = np.sum(y == 1)\n",
        "        sum_neg = n_samples - sum_pos\n",
        "        self.p_y = np.array([sum_neg / n_samples, sum_pos / n_samples])\n",
        "\n",
        "        # 2) Считаем вхождения слов\n",
        "        counts_pos = X[y == 1].sum(axis=0)  # [vocab_size]\n",
        "        counts_neg = X[y == 0].sum(axis=0)\n",
        "\n",
        "        # 3) Берём общее число слов в каждом классе\n",
        "        total_pos_words = counts_pos.sum()\n",
        "        total_neg_words = counts_neg.sum()\n",
        "\n",
        "        # 4) Лапласово сглаживание и нормировка так, чтобы суммы были =1\n",
        "        self.p_x_given_positive = (\n",
        "            counts_pos + self.delta\n",
        "        ) / (total_pos_words + self.delta * vocab_size)\n",
        "\n",
        "        self.p_x_given_negative = (\n",
        "            counts_neg + self.delta\n",
        "        ) / (total_neg_words + self.delta * vocab_size)\n",
        "\n",
        "        return self\n",
        "\n",
        "    def predict_scores(self, X: np.ndarray) -> np.ndarray:\n",
        "        \"\"\"\n",
        "        Лог-скоры пропорциональны log p(x,y=k).\n",
        "        Возвращает массив формы [n_samples, 2]: колонки — класс 0 и класс 1.\n",
        "        \"\"\"\n",
        "        log_pos = np.log(self.p_x_given_positive)\n",
        "        log_neg = np.log(self.p_x_given_negative)\n",
        "\n",
        "        # score_neg = log p(y=0) + sum_i x_i * log p(x_i|y=0)\n",
        "        score_neg = X @ log_neg + np.log(self.p_y[0])\n",
        "        # score_pos = log p(y=1) + sum_i x_i * log p(x_i|y=1)\n",
        "        score_pos = X @ log_pos + np.log(self.p_y[1])\n",
        "\n",
        "        return np.stack([score_neg, score_pos], axis=-1)\n",
        "\n",
        "    def predict(self, X: np.ndarray) -> np.ndarray:\n",
        "        \"\"\"\n",
        "        Выдаёт метки {0,1} по максимальному лог-ску.\n",
        "        \"\"\"\n",
        "        scores = self.predict_scores(X)\n",
        "        return np.argmax(scores, axis=-1)"
      ]
    },
    {
      "cell_type": "code",
      "execution_count": 36,
      "metadata": {
        "id": "8yAFOjUsVd6u"
      },
      "outputs": [],
      "source": [
        "naive_model = BinaryNaiveBayes().fit(X_train_bow, y_train)"
      ]
    },
    {
      "cell_type": "code",
      "execution_count": 37,
      "metadata": {
        "id": "mLy55TUBVd6u"
      },
      "outputs": [],
      "source": [
        "assert naive_model.p_y.shape == (2,) and naive_model.p_y.sum() == 1 and naive_model.p_y[0] > naive_model.p_y[1]\n",
        "assert naive_model.p_x_given_positive.shape == naive_model.p_x_given_negative.shape == X_train_bow.shape[1:]\n",
        "assert np.allclose(naive_model.p_x_given_positive.sum(), 1.0)\n",
        "assert np.allclose(naive_model.p_x_given_negative.sum(), 1.0)\n",
        "assert naive_model.p_x_given_negative.min() > 0, \"did you forget to add delta?\"\n",
        "\n",
        "f_index = bow_vocabulary.index('fuck')  # offensive tweets should contain more of this\n",
        "assert naive_model.p_x_given_positive[f_index] > naive_model.p_x_given_negative[f_index]\n",
        "\n",
        "g_index = bow_vocabulary.index('good')  # offensive tweets should contain less of this\n",
        "assert naive_model.p_x_given_positive[g_index] < naive_model.p_x_given_negative[g_index]"
      ]
    },
    {
      "cell_type": "code",
      "execution_count": 38,
      "metadata": {
        "id": "pF7OYfKUVd6u"
      },
      "outputs": [
        {
          "name": "stdout",
          "output_type": "stream",
          "text": [
            "Model accuracy: 0.756\n",
            "Well done!\n"
          ]
        },
        {
          "data": {
            "image/png": "[encoded data removed]",
            "text/plain": [
              "<Figure size 640x480 with 1 Axes>"
            ]
          },
          "metadata": {},
          "output_type": "display_data"
        }
      ],
      "source": [
        "from sklearn.metrics import roc_auc_score, roc_curve\n",
        "\n",
        "for name, X, y, model in [\n",
        "    ('train', X_train_bow, y_train, naive_model),\n",
        "    ('test ', X_test_bow, y_test, naive_model)\n",
        "]:\n",
        "    proba = model.predict_scores(X)[:, 1] - model.predict_scores(X)[:, 0]\n",
        "    auc = roc_auc_score(y, proba)\n",
        "    plt.plot(*roc_curve(y, proba)[:2], label='%s AUC=%.4f' % (name, auc))\n",
        "\n",
        "plt.plot([0, 1], [0, 1], '--', color='black',)\n",
        "plt.legend(fontsize='large')\n",
        "plt.grid()\n",
        "\n",
        "test_accuracy = np.mean(naive_model.predict(X_test_bow) == y_test)\n",
        "print(f\"Model accuracy: {test_accuracy:.3f}\")\n",
        "assert test_accuracy > 0.75, \"Accuracy too low. There's likely a mistake in the code.\"\n",
        "print(\"Well done!\")"
      ]
    },
    {
      "cell_type": "markdown",
      "metadata": {
        "id": "7RkSSWqGVd6u"
      },
      "source": [
        "Итак, он определенно чему-то научился. Теперь давайте выясним, что именно он узнал. Проще всего это сделать, выделив слова с наибольшими вероятностями при условии определенного класса.\n",
        "\n",
        "Ваша задача - вычислить топ-25 слов, которые имеют __наибольшее__ соотношение ${p(x_i | y=1)} \\over {p(x_i | y=0)}$. Наслаждайтесь!"
      ]
    },
    {
      "cell_type": "code",
      "execution_count": 39,
      "metadata": {
        "id": "g1sjqy-jVd6u"
      },
      "outputs": [
        {
          "name": "stdout",
          "output_type": "stream",
          "text": [
            "#0\t    hitler\t(ratio=0.002103166887536645)\n",
            "#1\t      heil\t(ratio=0.002119512762874365)\n",
            "#2\t   offfuck\t(ratio=0.00226629339158535)\n",
            "#3\t      suck\t(ratio=0.0031772113870829344)\n",
            "#4\t    nigger\t(ratio=0.004470666404813528)\n",
            "#5\t j.delanoy\t(ratio=0.004545177333056927)\n",
            "#6\t      dick\t(ratio=0.005347267724573612)\n",
            "#7\t      fggt\t(ratio=0.010226649232208729)\n",
            "#8\t     bitch\t(ratio=0.016696568578481674)\n",
            "#9\t      fuck\t(ratio=0.018593907356262207)\n",
            "#10\t      slap\t(ratio=0.02272588573396206)\n",
            "#11\t      shit\t(ratio=0.02272588573396206)\n",
            "#12\t   fucking\t(ratio=0.031466614454984665)\n",
            "#13\t       ass\t(ratio=0.037187814712524414)\n",
            "#14\t    stupid\t(ratio=0.05454212799668312)\n",
            "#15\t         =\t(ratio=0.05701268091797829)\n",
            "#16\t   college\t(ratio=0.05843799188733101)\n",
            "#17\t         *\t(ratio=0.05843799188733101)\n",
            "#18\t   asshole\t(ratio=0.06293322890996933)\n",
            "#19\t         u\t(ratio=0.06545055657625198)\n",
            "#20\t   bastard\t(ratio=0.06817765533924103)\n",
            "#21\t       hit\t(ratio=0.06817765533924103)\n",
            "#22\t         @\t(ratio=0.07437562942504883)\n",
            "#23\t     idiot\t(ratio=0.07437562942504883)\n",
            "#24\t beautiful\t(ratio=0.08181319385766983)\n"
          ]
        }
      ],
      "source": [
        "# hint: use naive_model.p_*\n",
        "probability_ratio = naive_model.p_x_given_negative / naive_model.p_x_given_positive\n",
        "top_indices = np.argsort(probability_ratio)[::][:25]\n",
        "top_negative_words = [bow_vocabulary[i] for i in top_indices]\n",
        "\n",
        "assert len(top_negative_words) == 25 and [isinstance(w, str) for w in top_negative_words]\n",
        "assert 'j.delanoy' in top_negative_words and 'college' in top_negative_words\n",
        "\n",
        "for i, word in enumerate(top_negative_words):\n",
        "    print(f\"#{i}\\t{word.rjust(10, ' ')}\\t(ratio={probability_ratio[bow_vocabulary.index(word)]})\")"
      ]
    },
    {
      "cell_type": "markdown",
      "metadata": {
        "id": "0xdGCRzqVd6v"
      },
      "source": [
        "Теперь попробуем что-нибудь менее доисторическое: __Логистическая регрессия__.\n",
        "\n",
        "Тут даже веса можно будет посмотреть адекватно!"
      ]
    },
    {
      "cell_type": "code",
      "execution_count": 40,
      "metadata": {
        "id": "BbyNg6b3Vd6v"
      },
      "outputs": [],
      "source": [
        "from sklearn.linear_model import LogisticRegression\n",
        "bow_model = LogisticRegression(C=0.1).fit(X_train_bow, y_train)"
      ]
    },
    {
      "cell_type": "code",
      "execution_count": 41,
      "metadata": {
        "id": "oRwMihifVd6v"
      },
      "outputs": [
        {
          "name": "stdout",
          "output_type": "stream",
          "text": [
            "Model accuracy: 0.770\n",
            "Well done!\n"
          ]
        },
        {
          "data": {
            "image/png": "[encoded data removed]",
            "text/plain": [
              "<Figure size 640x480 with 1 Axes>"
            ]
          },
          "metadata": {},
          "output_type": "display_data"
        }
      ],
      "source": [
        "from sklearn.metrics import roc_auc_score, roc_curve\n",
        "\n",
        "for name, X, y, model in [\n",
        "    ('train', X_train_bow, y_train, bow_model),\n",
        "    ('test ', X_test_bow, y_test, bow_model)\n",
        "]:\n",
        "    proba = model.predict_proba(X)[:, 1]\n",
        "    auc = roc_auc_score(y, proba)\n",
        "    plt.plot(*roc_curve(y, proba)[:2], label='%s AUC=%.4f' % (name, auc))\n",
        "\n",
        "plt.plot([0, 1], [0, 1], '--', color='black',)\n",
        "plt.legend(fontsize='large')\n",
        "plt.grid()\n",
        "\n",
        "test_accuracy = np.mean(bow_model.predict(X_test_bow) == y_test)\n",
        "print(f\"Model accuracy: {test_accuracy:.3f}\")\n",
        "assert test_accuracy >= 0.77, \"Hint: tune the parameter C to improve performance\"\n",
        "print(\"Well done!\")"
      ]
    },
    {
      "cell_type": "markdown",
      "metadata": {
        "id": "SAD1bvZSVd6v"
      },
      "source": [
        "### Задача: реализовать TF-IDF\n",
        "\n",
        "Не все слова одинаково полезны. Приоритет редких слов и снижение значимости таких слов, как «и»/«или», можно определить с помощью __tf-idf-функций__.\n",
        "\n",
        "$$ feature_i = { Count(word_i \\in x) \\times { log {N \\over Count(word_i \\in D) + \\alpha} }} $$\n",
        "\n",
        "\n",
        "где x - отдельный текст, D - ваш набор данных (коллекция текстов), N - общее количество документов, а $\\alpha$ - гиперпараметр сглаживания (обычно 1).\n",
        "А $Count(word_i \\in D)$ - это количество документов, в которых встречается $word_i$.\n",
        "\n",
        "Также может быть хорошей идеей нормализовать каждую выборку данных после вычисления tf-idf признаков.\n",
        "\n",
        "__Ваша задача:__ реализовать tf-idf признаки, обучить модель и оценить ROC-кривую. Сравните ее с базовой моделью BagOfWords, приведенной выше.\n",
        "\n",
        "Пожалуйста, не используйте встроенные в sklearn/nltk векторизаторы tf-idf признаков в вашем решении :) Однако вы можете использовать их для отладки."
      ]
    },
    {
      "cell_type": "markdown",
      "metadata": {
        "id": "xleXIJYPVd6v"
      },
      "source": [
        "```\n",
        "\n",
        "```\n",
        "\n",
        "```\n",
        "\n",
        "```\n",
        "\n",
        "```\n",
        "\n",
        "```\n",
        "\n",
        "```\n",
        "\n",
        "```\n",
        "\n",
        "```\n",
        "\n",
        "```\n",
        "\n",
        "```\n",
        "\n",
        "```\n",
        "\n",
        "```\n",
        "\n",
        "```\n",
        "\n",
        "```\n",
        "\n",
        "```\n",
        "\n",
        "\n",
        "### Решение лучше: Эмбеддинги\n",
        "\n",
        "Попробуем другой подход: вместо того, чтобы считать частоты отдельных слов, мы преобразуем все слова в предобученные векторы слов и усредним их, чтобы получить признаки текста.\n",
        "\n",
        "Это должно дать нам два ключевых преимущества: (1) у нас теперь будет 10^2 признаков вместо 10^4 и (2) наша модель сможет обобщать слова, которые отсутствуют в тренировочном наборе данных. (ведь мы используем fasttext, который по факту - word2vec на n-grams\n",
        "\n",
        "Мы начнем со стандартного подхода с предобученными векторами слов. Однако, вы также можете попробовать:\n",
        "* обучение эмбеддингов с нуля на соответствующих (неразмеченных) данных\n",
        "* умножение векторов слов на обратную частоту слова в наборе данных (как tf-idf)\n",
        "* объединение нескольких эмбеддингов\n",
        "    * вызовите `gensim.downloader.info()['models'].keys()`, чтобы получить список доступных моделей\n",
        "\n",
        "__Примечание:__ загрузка предобученной модели может занять некоторое время. Это отличная возможность налить себе еще чаю/кофе и взять пару печенек с конфетками"
      ]
    },
    {
      "cell_type": "code",
      "execution_count": 42,
      "metadata": {
        "collapsed": true,
        "id": "s53-6BZeVd6v",
        "scrolled": false
      },
      "outputs": [
        {
          "name": "stdout",
          "output_type": "stream",
          "text": [
            "Requirement already satisfied: gensim in ./.venv/lib/python3.11/site-packages (4.3.3)\n",
            "Requirement already satisfied: numpy<2.0,>=1.18.5 in ./.venv/lib/python3.11/site-packages (from gensim) (1.26.4)\n",
            "Requirement already satisfied: scipy<1.14.0,>=1.7.0 in ./.venv/lib/python3.11/site-packages (from gensim) (1.13.1)\n",
            "Requirement already satisfied: smart-open>=1.8.1 in ./.venv/lib/python3.11/site-packages (from gensim) (7.1.0)\n",
            "Requirement already satisfied: wrapt in ./.venv/lib/python3.11/site-packages (from smart-open>=1.8.1->gensim) (1.17.2)\n",
            "Note: you may need to restart the kernel to use updated packages.\n"
          ]
        }
      ],
      "source": [
        "%pip install --upgrade gensim\n",
        "import gensim.downloader\n",
        "embeddings = gensim.downloader.load(\"fasttext-wiki-news-subwords-300\")\n",
        "\n",
        "# If you're low on RAM or download speed, use \"glove-wiki-gigaword-100\" instead. Ignore all further asserts."
      ]
    },
    {
      "cell_type": "code",
      "execution_count": 43,
      "metadata": {
        "collapsed": true,
        "id": "n5Kd1YvGVd6v"
      },
      "outputs": [],
      "source": [
        "def vectorize_sum(comment):\n",
        "    \"\"\"\n",
        "    implement a function that converts preprocessed comment to a sum of token vectors\n",
        "    \"\"\"\n",
        "    embedding_dim = embeddings.vector_size\n",
        "    features = np.zeros([embedding_dim], dtype='float32')\n",
        "\n",
        "    for token in comment.split():\n",
        "        if token in embeddings:\n",
        "            features += embeddings[token]\n",
        "        else:\n",
        "            continue\n",
        "\n",
        "    return features\n",
        "\n",
        "assert np.allclose(\n",
        "    vectorize_sum(\"who cares anymore . they attack with impunity .\")[::70],\n",
        "    np.array([ 0.0108616 ,  0.0261663 ,  0.13855131, -0.18510573, -0.46380025])\n",
        ")"
      ]
    },
    {
      "cell_type": "code",
      "execution_count": 44,
      "metadata": {
        "collapsed": true,
        "id": "bqcO6Al6Vd6w"
      },
      "outputs": [],
      "source": [
        "X_train_wv = np.stack([vectorize_sum(text) for text in texts_train])\n",
        "X_test_wv = np.stack([vectorize_sum(text) for text in texts_test])"
      ]
    },
    {
      "cell_type": "code",
      "execution_count": 45,
      "metadata": {
        "id": "Wv0E2UwnVd6w"
      },
      "outputs": [
        {
          "name": "stderr",
          "output_type": "stream",
          "text": [
            "/home/german/nlp/2_HW/.venv/lib/python3.11/site-packages/sklearn/linear_model/_logistic.py:470: ConvergenceWarning: lbfgs failed to converge after 100 iteration(s) (status=1):\n",
            "STOP: TOTAL NO. of ITERATIONS REACHED LIMIT\n",
            "\n",
            "Increase the number of iterations to improve the convergence (max_iter=100).\n",
            "You might also want to scale the data as shown in:\n",
            "    https://scikit-learn.org/stable/modules/preprocessing.html\n",
            "Please also refer to the documentation for alternative solver options:\n",
            "    https://scikit-learn.org/stable/modules/linear_model.html#logistic-regression\n",
            "  n_iter_i = _check_optimize_result(\n"
          ]
        },
        {
          "data": {
            "image/png": "[encoded data removed]",
            "text/plain": [
              "<Figure size 640x480 with 1 Axes>"
            ]
          },
          "metadata": {},
          "output_type": "display_data"
        }
      ],
      "source": [
        "wv_model = LogisticRegression().fit(X_train_wv, y_train)\n",
        "\n",
        "for name, X, y, model in [\n",
        "    ('bow train', X_train_bow, y_train, bow_model),\n",
        "    ('bow test ', X_test_bow, y_test, bow_model),\n",
        "    ('vec train', X_train_wv, y_train, wv_model),\n",
        "    ('vec test ', X_test_wv, y_test, wv_model)\n",
        "]:\n",
        "    proba = model.predict_proba(X)[:, 1]\n",
        "    auc = roc_auc_score(y, proba)\n",
        "    plt.plot(*roc_curve(y, proba)[:2], label='%s AUC=%.4f' % (name, auc))\n",
        "\n",
        "plt.plot([0, 1], [0, 1], '--', color='black',)\n",
        "plt.legend(fontsize='large')\n",
        "plt.grid()\n",
        "\n",
        "assert roc_auc_score(y_test, wv_model.predict_proba(X_test_wv)[:, 1]) > 0.92, \"something's wrong with your features\""
      ]
    },
    {
      "cell_type": "markdown",
      "metadata": {
        "id": "veRATeXgVd6w"
      },
      "source": [
        "Если все прошло правильно, то вы снизили ошибку в 2 раза.\n",
        "Этот трюк очень полезен, когда вы имеете дело с небольшими наборами данных.\n",
        "\n",
        "Однако если у вас сотни тысяч примеров, то для этого существует совершенно другой набор методов. Об этом собсна и далее"
      ]
    },
    {
      "cell_type": "markdown",
      "metadata": {
        "id": "wr9GLW3A2RqL"
      },
      "source": [
        "### ЛР. Часть II: Large scale text analysis with deep learning (4 points)\n"
      ]
    },
    {
      "cell_type": "markdown",
      "metadata": {
        "id": "V6pSQcFn2RqN"
      },
      "source": [
        "**Для успешной сдачи этой части ЛР - нужно получить MAE < 0.11**\n",
        "\n",
        "За датасет спасибо [Oleg Vasilev](https://github.com/Omrigan/)\n",
        "\n",
        "Мы будем предсказывать ЗП по резюме. Начнем с семинара, закончим ЛР.\n",
        "\n",
        "**Для успешной сдачи этой части ЛР - нужно получить MAE < 0.11**"
      ]
    },
    {
      "cell_type": "code",
      "execution_count": 46,
      "metadata": {
        "id": "eUuse6vD2RqN"
      },
      "outputs": [
        {
          "name": "stdout",
          "output_type": "stream",
          "text": [
            "Requirement already satisfied: pandas in ./.venv/lib/python3.11/site-packages (2.3.0)\n",
            "Requirement already satisfied: matplotlib in ./.venv/lib/python3.11/site-packages (3.10.3)\n",
            "Requirement already satisfied: scikit-learn in ./.venv/lib/python3.11/site-packages (1.7.0)\n",
            "Requirement already satisfied: nltk in ./.venv/lib/python3.11/site-packages (3.9.1)\n",
            "Requirement already satisfied: numpy in ./.venv/lib/python3.11/site-packages (1.26.4)\n",
            "Requirement already satisfied: torch in ./.venv/lib/python3.11/site-packages (2.7.1)\n",
            "Requirement already satisfied: requests in ./.venv/lib/python3.11/site-packages (2.32.4)\n",
            "Requirement already satisfied: python-dateutil>=2.8.2 in ./.venv/lib/python3.11/site-packages (from pandas) (2.9.0.post0)\n",
            "Requirement already satisfied: pytz>=2020.1 in ./.venv/lib/python3.11/site-packages (from pandas) (2025.2)\n",
            "Requirement already satisfied: tzdata>=2022.7 in ./.venv/lib/python3.11/site-packages (from pandas) (2025.2)\n",
            "Requirement already satisfied: contourpy>=1.0.1 in ./.venv/lib/python3.11/site-packages (from matplotlib) (1.3.2)\n",
            "Requirement already satisfied: cycler>=0.10 in ./.venv/lib/python3.11/site-packages (from matplotlib) (0.12.1)\n",
            "Requirement already satisfied: fonttools>=4.22.0 in ./.venv/lib/python3.11/site-packages (from matplotlib) (4.58.4)\n",
            "Requirement already satisfied: kiwisolver>=1.3.1 in ./.venv/lib/python3.11/site-packages (from matplotlib) (1.4.8)\n",
            "Requirement already satisfied: packaging>=20.0 in ./.venv/lib/python3.11/site-packages (from matplotlib) (25.0)\n",
            "Requirement already satisfied: pillow>=8 in ./.venv/lib/python3.11/site-packages (from matplotlib) (11.2.1)\n",
            "Requirement already satisfied: pyparsing>=2.3.1 in ./.venv/lib/python3.11/site-packages (from matplotlib) (3.2.3)\n",
            "Requirement already satisfied: scipy>=1.8.0 in ./.venv/lib/python3.11/site-packages (from scikit-learn) (1.13.1)\n",
            "Requirement already satisfied: joblib>=1.2.0 in ./.venv/lib/python3.11/site-packages (from scikit-learn) (1.5.1)\n",
            "Requirement already satisfied: threadpoolctl>=3.1.0 in ./.venv/lib/python3.11/site-packages (from scikit-learn) (3.6.0)\n",
            "Requirement already satisfied: click in ./.venv/lib/python3.11/site-packages (from nltk) (8.2.1)\n",
            "Requirement already satisfied: regex>=2021.8.3 in ./.venv/lib/python3.11/site-packages (from nltk) (2024.11.6)\n",
            "Requirement already satisfied: tqdm in ./.venv/lib/python3.11/site-packages (from nltk) (4.67.1)\n",
            "Requirement already satisfied: filelock in ./.venv/lib/python3.11/site-packages (from torch) (3.18.0)\n",
            "Requirement already satisfied: typing-extensions>=4.10.0 in ./.venv/lib/python3.11/site-packages (from torch) (4.14.0)\n",
            "Requirement already satisfied: sympy>=1.13.3 in ./.venv/lib/python3.11/site-packages (from torch) (1.14.0)\n",
            "Requirement already satisfied: networkx in ./.venv/lib/python3.11/site-packages (from torch) (3.5)\n",
            "Requirement already satisfied: jinja2 in ./.venv/lib/python3.11/site-packages (from torch) (3.1.6)\n",
            "Requirement already satisfied: fsspec in ./.venv/lib/python3.11/site-packages (from torch) (2025.5.1)\n",
            "Requirement already satisfied: nvidia-cuda-nvrtc-cu12==12.6.77 in ./.venv/lib/python3.11/site-packages (from torch) (12.6.77)\n",
            "Requirement already satisfied: nvidia-cuda-runtime-cu12==12.6.77 in ./.venv/lib/python3.11/site-packages (from torch) (12.6.77)\n",
            "Requirement already satisfied: nvidia-cuda-cupti-cu12==12.6.80 in ./.venv/lib/python3.11/site-packages (from torch) (12.6.80)\n",
            "Requirement already satisfied: nvidia-cudnn-cu12==9.5.1.17 in ./.venv/lib/python3.11/site-packages (from torch) (9.5.1.17)\n",
            "Requirement already satisfied: nvidia-cublas-cu12==12.6.4.1 in ./.venv/lib/python3.11/site-packages (from torch) (12.6.4.1)\n",
            "Requirement already satisfied: nvidia-cufft-cu12==11.3.0.4 in ./.venv/lib/python3.11/site-packages (from torch) (11.3.0.4)\n",
            "Requirement already satisfied: nvidia-curand-cu12==10.3.7.77 in ./.venv/lib/python3.11/site-packages (from torch) (10.3.7.77)\n",
            "Requirement already satisfied: nvidia-cusolver-cu12==11.7.1.2 in ./.venv/lib/python3.11/site-packages (from torch) (11.7.1.2)\n",
            "Requirement already satisfied: nvidia-cusparse-cu12==12.5.4.2 in ./.venv/lib/python3.11/site-packages (from torch) (12.5.4.2)\n",
            "Requirement already satisfied: nvidia-cusparselt-cu12==0.6.3 in ./.venv/lib/python3.11/site-packages (from torch) (0.6.3)\n",
            "Requirement already satisfied: nvidia-nccl-cu12==2.26.2 in ./.venv/lib/python3.11/site-packages (from torch) (2.26.2)\n",
            "Requirement already satisfied: nvidia-nvtx-cu12==12.6.77 in ./.venv/lib/python3.11/site-packages (from torch) (12.6.77)\n",
            "Requirement already satisfied: nvidia-nvjitlink-cu12==12.6.85 in ./.venv/lib/python3.11/site-packages (from torch) (12.6.85)\n",
            "Requirement already satisfied: nvidia-cufile-cu12==1.11.1.6 in ./.venv/lib/python3.11/site-packages (from torch) (1.11.1.6)\n",
            "Requirement already satisfied: triton==3.3.1 in ./.venv/lib/python3.11/site-packages (from torch) (3.3.1)\n",
            "Requirement already satisfied: setuptools>=40.8.0 in ./.venv/lib/python3.11/site-packages (from triton==3.3.1->torch) (65.5.0)\n",
            "Requirement already satisfied: charset_normalizer<4,>=2 in ./.venv/lib/python3.11/site-packages (from requests) (3.4.2)\n",
            "Requirement already satisfied: idna<4,>=2.5 in ./.venv/lib/python3.11/site-packages (from requests) (3.10)\n",
            "Requirement already satisfied: urllib3<3,>=1.21.1 in ./.venv/lib/python3.11/site-packages (from requests) (2.5.0)\n",
            "Requirement already satisfied: certifi>=2017.4.17 in ./.venv/lib/python3.11/site-packages (from requests) (2025.6.15)\n",
            "Requirement already satisfied: six>=1.5 in ./.venv/lib/python3.11/site-packages (from python-dateutil>=2.8.2->pandas) (1.17.0)\n",
            "Requirement already satisfied: mpmath<1.4,>=1.1.0 in ./.venv/lib/python3.11/site-packages (from sympy>=1.13.3->torch) (1.3.0)\n",
            "Requirement already satisfied: MarkupSafe>=2.0 in ./.venv/lib/python3.11/site-packages (from jinja2->torch) (3.0.2)\n",
            "Note: you may need to restart the kernel to use updated packages.\n",
            "Requirement already satisfied: gensim in ./.venv/lib/python3.11/site-packages (4.3.3)\n",
            "Requirement already satisfied: numpy<2.0,>=1.18.5 in ./.venv/lib/python3.11/site-packages (from gensim) (1.26.4)\n",
            "Requirement already satisfied: scipy<1.14.0,>=1.7.0 in ./.venv/lib/python3.11/site-packages (from gensim) (1.13.1)\n",
            "Requirement already satisfied: smart-open>=1.8.1 in ./.venv/lib/python3.11/site-packages (from gensim) (7.1.0)\n",
            "Requirement already satisfied: wrapt in ./.venv/lib/python3.11/site-packages (from smart-open>=1.8.1->gensim) (1.17.2)\n",
            "Note: you may need to restart the kernel to use updated packages.\n"
          ]
        }
      ],
      "source": [
        "%pip install pandas matplotlib scikit-learn nltk numpy torch requests\n",
        "%pip install --upgrade gensim\n",
        "import numpy as np\n",
        "import pandas as pd\n",
        "import matplotlib.pyplot as plt\n",
        "%matplotlib inline"
      ]
    },
    {
      "cell_type": "markdown",
      "metadata": {
        "id": "uj7sqAP52RqO"
      },
      "source": [
        "### Начало\n",
        "\n",
        "Сначала разумеется нужно скачать датасет с яндекс диска.\n",
        "\n",
        "Данные сделаны на основе Kaggle соревнования - https://www.kaggle.com/c/job-salary-prediction/data\n"
      ]
    },
    {
      "cell_type": "code",
      "execution_count": 47,
      "metadata": {
        "id": "mgO7R-ct2RqO"
      },
      "outputs": [
        {
          "data": {
            "text/plain": [
              "(244768, 12)"
            ]
          },
          "execution_count": 47,
          "metadata": {},
          "output_type": "execute_result"
        }
      ],
      "source": [
        "data = pd.read_csv(\"./Train_rev1.csv\", index_col=None)\n",
        "data.shape"
      ]
    },
    {
      "cell_type": "code",
      "execution_count": 48,
      "metadata": {
        "id": "GQd_KyEb2RqO"
      },
      "outputs": [
        {
          "data": {
            "text/html": [
              "<div>\n",
              "<style scoped>\n",
              "    .dataframe tbody tr th:only-of-type {\n",
              "        vertical-align: middle;\n",
              "    }\n",
              "\n",
              "    .dataframe tbody tr th {\n",
              "        vertical-align: top;\n",
              "    }\n",
              "\n",
              "    .dataframe thead th {\n",
              "        text-align: right;\n",
              "    }\n",
              "</style>\n",
              "<table border=\"1\" class=\"dataframe\">\n",
              "  <thead>\n",
              "    <tr style=\"text-align: right;\">\n",
              "      <th></th>\n",
              "      <th>Id</th>\n",
              "      <th>Title</th>\n",
              "      <th>FullDescription</th>\n",
              "      <th>LocationRaw</th>\n",
              "      <th>LocationNormalized</th>\n",
              "      <th>ContractType</th>\n",
              "      <th>ContractTime</th>\n",
              "      <th>Company</th>\n",
              "      <th>Category</th>\n",
              "      <th>SalaryRaw</th>\n",
              "      <th>SalaryNormalized</th>\n",
              "      <th>SourceName</th>\n",
              "    </tr>\n",
              "  </thead>\n",
              "  <tbody>\n",
              "    <tr>\n",
              "      <th>0</th>\n",
              "      <td>12612628</td>\n",
              "      <td>Engineering Systems Analyst</td>\n",
              "      <td>Engineering Systems Analyst Dorking Surrey Sal...</td>\n",
              "      <td>Dorking, Surrey, Surrey</td>\n",
              "      <td>Dorking</td>\n",
              "      <td>NaN</td>\n",
              "      <td>permanent</td>\n",
              "      <td>Gregory Martin International</td>\n",
              "      <td>Engineering Jobs</td>\n",
              "      <td>20000 - 30000/annum 20-30K</td>\n",
              "      <td>25000</td>\n",
              "      <td>cv-library.co.uk</td>\n",
              "    </tr>\n",
              "    <tr>\n",
              "      <th>1</th>\n",
              "      <td>12612830</td>\n",
              "      <td>Stress Engineer Glasgow</td>\n",
              "      <td>Stress Engineer Glasgow Salary **** to **** We...</td>\n",
              "      <td>Glasgow, Scotland, Scotland</td>\n",
              "      <td>Glasgow</td>\n",
              "      <td>NaN</td>\n",
              "      <td>permanent</td>\n",
              "      <td>Gregory Martin International</td>\n",
              "      <td>Engineering Jobs</td>\n",
              "      <td>25000 - 35000/annum 25-35K</td>\n",
              "      <td>30000</td>\n",
              "      <td>cv-library.co.uk</td>\n",
              "    </tr>\n",
              "    <tr>\n",
              "      <th>2</th>\n",
              "      <td>12612844</td>\n",
              "      <td>Modelling and simulation analyst</td>\n",
              "      <td>Mathematical Modeller / Simulation Analyst / O...</td>\n",
              "      <td>Hampshire, South East, South East</td>\n",
              "      <td>Hampshire</td>\n",
              "      <td>NaN</td>\n",
              "      <td>permanent</td>\n",
              "      <td>Gregory Martin International</td>\n",
              "      <td>Engineering Jobs</td>\n",
              "      <td>20000 - 40000/annum 20-40K</td>\n",
              "      <td>30000</td>\n",
              "      <td>cv-library.co.uk</td>\n",
              "    </tr>\n",
              "    <tr>\n",
              "      <th>3</th>\n",
              "      <td>12613049</td>\n",
              "      <td>Engineering Systems Analyst / Mathematical Mod...</td>\n",
              "      <td>Engineering Systems Analyst / Mathematical Mod...</td>\n",
              "      <td>Surrey, South East, South East</td>\n",
              "      <td>Surrey</td>\n",
              "      <td>NaN</td>\n",
              "      <td>permanent</td>\n",
              "      <td>Gregory Martin International</td>\n",
              "      <td>Engineering Jobs</td>\n",
              "      <td>25000 - 30000/annum 25K-30K negotiable</td>\n",
              "      <td>27500</td>\n",
              "      <td>cv-library.co.uk</td>\n",
              "    </tr>\n",
              "    <tr>\n",
              "      <th>4</th>\n",
              "      <td>12613647</td>\n",
              "      <td>Pioneer, Miser Engineering Systems Analyst</td>\n",
              "      <td>Pioneer, Miser  Engineering Systems Analyst Do...</td>\n",
              "      <td>Surrey, South East, South East</td>\n",
              "      <td>Surrey</td>\n",
              "      <td>NaN</td>\n",
              "      <td>permanent</td>\n",
              "      <td>Gregory Martin International</td>\n",
              "      <td>Engineering Jobs</td>\n",
              "      <td>20000 - 30000/annum 20-30K</td>\n",
              "      <td>25000</td>\n",
              "      <td>cv-library.co.uk</td>\n",
              "    </tr>\n",
              "  </tbody>\n",
              "</table>\n",
              "</div>"
            ],
            "text/plain": [
              "         Id                                              Title  \\\n",
              "0  12612628                        Engineering Systems Analyst   \n",
              "1  12612830                            Stress Engineer Glasgow   \n",
              "2  12612844                   Modelling and simulation analyst   \n",
              "3  12613049  Engineering Systems Analyst / Mathematical Mod...   \n",
              "4  12613647         Pioneer, Miser Engineering Systems Analyst   \n",
              "\n",
              "                                     FullDescription  \\\n",
              "0  Engineering Systems Analyst Dorking Surrey Sal...   \n",
              "1  Stress Engineer Glasgow Salary **** to **** We...   \n",
              "2  Mathematical Modeller / Simulation Analyst / O...   \n",
              "3  Engineering Systems Analyst / Mathematical Mod...   \n",
              "4  Pioneer, Miser  Engineering Systems Analyst Do...   \n",
              "\n",
              "                         LocationRaw LocationNormalized ContractType  \\\n",
              "0            Dorking, Surrey, Surrey            Dorking          NaN   \n",
              "1        Glasgow, Scotland, Scotland            Glasgow          NaN   \n",
              "2  Hampshire, South East, South East          Hampshire          NaN   \n",
              "3     Surrey, South East, South East             Surrey          NaN   \n",
              "4     Surrey, South East, South East             Surrey          NaN   \n",
              "\n",
              "  ContractTime                       Company          Category  \\\n",
              "0    permanent  Gregory Martin International  Engineering Jobs   \n",
              "1    permanent  Gregory Martin International  Engineering Jobs   \n",
              "2    permanent  Gregory Martin International  Engineering Jobs   \n",
              "3    permanent  Gregory Martin International  Engineering Jobs   \n",
              "4    permanent  Gregory Martin International  Engineering Jobs   \n",
              "\n",
              "                                SalaryRaw  SalaryNormalized        SourceName  \n",
              "0              20000 - 30000/annum 20-30K             25000  cv-library.co.uk  \n",
              "1              25000 - 35000/annum 25-35K             30000  cv-library.co.uk  \n",
              "2              20000 - 40000/annum 20-40K             30000  cv-library.co.uk  \n",
              "3  25000 - 30000/annum 25K-30K negotiable             27500  cv-library.co.uk  \n",
              "4              20000 - 30000/annum 20-30K             25000  cv-library.co.uk  "
            ]
          },
          "execution_count": 48,
          "metadata": {},
          "output_type": "execute_result"
        }
      ],
      "source": [
        "data.head()"
      ]
    },
    {
      "cell_type": "markdown",
      "metadata": {
        "id": "DqxnSwlp2RqO"
      },
      "source": [
        "Одна из проблем с предсказанием зарплат заключается в том, что они распределены необычным образом (хотя кто слушал лекции по классик мл было все идеально): существует много людей, которые получают стандартные зарплаты, и немного тех, кто зарабатывает огромные суммы. Распределение имеет \"жирный хвост\" на правой стороне, что неудобно для минимизации MSE.\n",
        "\n",
        "Существует несколько методов для решения этой проблемы: использование другой функции потерь (MSLE), предсказание логарифма целевой переменной вместо исходного значения (LOG1P), или даже замена целевых значений их процентилями среди всех зарплат в обучающем наборе (ДИСКРЕТИЗАЦИЯ????).\n",
        "\n",
        "Для простоты и вашего интереса буду юзать log1p\n",
        "\n",
        "_Подробнее можно прочитать [в официальном описании](https://www.kaggle.com/c/job-salary-prediction#description)._"
      ]
    },
    {
      "cell_type": "code",
      "execution_count": 49,
      "metadata": {
        "id": "RvC3_LF72RqO"
      },
      "outputs": [
        {
          "data": {
            "image/png": "[encoded data removed]",
            "text/plain": [
              "<Figure size 800x400 with 2 Axes>"
            ]
          },
          "metadata": {},
          "output_type": "display_data"
        }
      ],
      "source": [
        "data['Log1pSalary'] = np.log1p(data['SalaryNormalized']).astype('float32')\n",
        "\n",
        "plt.figure(figsize=[8, 4])\n",
        "plt.subplot(1, 2, 1)\n",
        "plt.hist(data[\"SalaryNormalized\"], bins=20);\n",
        "\n",
        "plt.subplot(1, 2, 2)\n",
        "plt.hist(data['Log1pSalary'], bins=20);"
      ]
    },
    {
      "cell_type": "markdown",
      "metadata": {
        "id": "PIhd1Owf2RqO"
      },
      "source": [
        "Наша задача — предсказать одно число, __Log1pSalary__.\n",
        "\n",
        "Для этого наша модель может использовать несколько признаков:\n",
        "* Текстовые данные: __`Title`__ и  __`FullDescription`__\n",
        "* Категориальные данные: __`Category`__, __`Company`__, __`LocationNormalized`__, __`ContractType`__ и __`ContractTime`__."
      ]
    },
    {
      "cell_type": "code",
      "execution_count": 50,
      "metadata": {
        "id": "WqelS_j32RqO"
      },
      "outputs": [
        {
          "data": {
            "text/html": [
              "<div>\n",
              "<style scoped>\n",
              "    .dataframe tbody tr th:only-of-type {\n",
              "        vertical-align: middle;\n",
              "    }\n",
              "\n",
              "    .dataframe tbody tr th {\n",
              "        vertical-align: top;\n",
              "    }\n",
              "\n",
              "    .dataframe thead th {\n",
              "        text-align: right;\n",
              "    }\n",
              "</style>\n",
              "<table border=\"1\" class=\"dataframe\">\n",
              "  <thead>\n",
              "    <tr style=\"text-align: right;\">\n",
              "      <th></th>\n",
              "      <th>Id</th>\n",
              "      <th>Title</th>\n",
              "      <th>FullDescription</th>\n",
              "      <th>LocationRaw</th>\n",
              "      <th>LocationNormalized</th>\n",
              "      <th>ContractType</th>\n",
              "      <th>ContractTime</th>\n",
              "      <th>Company</th>\n",
              "      <th>Category</th>\n",
              "      <th>SalaryRaw</th>\n",
              "      <th>SalaryNormalized</th>\n",
              "      <th>SourceName</th>\n",
              "      <th>Log1pSalary</th>\n",
              "    </tr>\n",
              "  </thead>\n",
              "  <tbody>\n",
              "    <tr>\n",
              "      <th>220965</th>\n",
              "      <td>72377505</td>\n",
              "      <td>Head of Group Reporting</td>\n",
              "      <td>I am currently searching for a high calibre qu...</td>\n",
              "      <td>London</td>\n",
              "      <td>London</td>\n",
              "      <td>NaN</td>\n",
              "      <td>permanent</td>\n",
              "      <td>Hays Senior Finance</td>\n",
              "      <td>Accounting &amp; Finance Jobs</td>\n",
              "      <td>75000.00 to 85000.00</td>\n",
              "      <td>80000</td>\n",
              "      <td>tntjobs.co.uk</td>\n",
              "      <td>11.289794</td>\n",
              "    </tr>\n",
              "    <tr>\n",
              "      <th>157459</th>\n",
              "      <td>71109956</td>\n",
              "      <td>Theatre Practitioner  Recovery &amp; Anaesthetics</td>\n",
              "      <td>Due to an increase in activity our client, a p...</td>\n",
              "      <td>London, England</td>\n",
              "      <td>London</td>\n",
              "      <td>NaN</td>\n",
              "      <td>permanent</td>\n",
              "      <td>NaN</td>\n",
              "      <td>Healthcare &amp; Nursing Jobs</td>\n",
              "      <td>29000 - 31000 per annum</td>\n",
              "      <td>30000</td>\n",
              "      <td>jobs.telegraph.co.uk</td>\n",
              "      <td>10.308986</td>\n",
              "    </tr>\n",
              "    <tr>\n",
              "      <th>234847</th>\n",
              "      <td>72539608</td>\n",
              "      <td>EngD Studentship</td>\n",
              "      <td>Power and signal cables contribute to the mass...</td>\n",
              "      <td>Midlands of England</td>\n",
              "      <td>UK</td>\n",
              "      <td>NaN</td>\n",
              "      <td>NaN</td>\n",
              "      <td>University of Warwick</td>\n",
              "      <td>Teaching Jobs</td>\n",
              "      <td>19,000 . stipend</td>\n",
              "      <td>19000</td>\n",
              "      <td>Jobs Ac</td>\n",
              "      <td>9.852247</td>\n",
              "    </tr>\n",
              "  </tbody>\n",
              "</table>\n",
              "</div>"
            ],
            "text/plain": [
              "              Id                                          Title  \\\n",
              "220965  72377505                        Head of Group Reporting   \n",
              "157459  71109956  Theatre Practitioner  Recovery & Anaesthetics   \n",
              "234847  72539608                               EngD Studentship   \n",
              "\n",
              "                                          FullDescription  \\\n",
              "220965  I am currently searching for a high calibre qu...   \n",
              "157459  Due to an increase in activity our client, a p...   \n",
              "234847  Power and signal cables contribute to the mass...   \n",
              "\n",
              "                LocationRaw LocationNormalized ContractType ContractTime  \\\n",
              "220965               London             London          NaN    permanent   \n",
              "157459      London, England             London          NaN    permanent   \n",
              "234847  Midlands of England                 UK          NaN          NaN   \n",
              "\n",
              "                      Company                   Category  \\\n",
              "220965    Hays Senior Finance  Accounting & Finance Jobs   \n",
              "157459                    NaN  Healthcare & Nursing Jobs   \n",
              "234847  University of Warwick              Teaching Jobs   \n",
              "\n",
              "                      SalaryRaw  SalaryNormalized            SourceName  \\\n",
              "220965     75000.00 to 85000.00             80000         tntjobs.co.uk   \n",
              "157459  29000 - 31000 per annum             30000  jobs.telegraph.co.uk   \n",
              "234847         19,000 . stipend             19000               Jobs Ac   \n",
              "\n",
              "        Log1pSalary  \n",
              "220965    11.289794  \n",
              "157459    10.308986  \n",
              "234847     9.852247  "
            ]
          },
          "execution_count": 50,
          "metadata": {},
          "output_type": "execute_result"
        }
      ],
      "source": [
        "text_columns = [\"Title\", \"FullDescription\"]\n",
        "categorical_columns = [\"Category\", \"Company\", \"LocationNormalized\", \"ContractType\", \"ContractTime\"]\n",
        "TARGET_COLUMN = \"Log1pSalary\"\n",
        "\n",
        "data[categorical_columns] = data[categorical_columns].fillna('NaN') # cast missing values to string \"NaN\"\n",
        "\n",
        "data.sample(3)"
      ]
    },
    {
      "cell_type": "markdown",
      "metadata": {
        "id": "fm6RK0wV2RqP"
      },
      "source": [
        "### Препроцессинг\n",
        "\n",
        "Как и на прошлой неделе, NLP начинается с токенизации: разбиения исходного текста на последовательности токенов (слов, знаков пунктуации и т.д.).\n",
        "\n",
        "__Ваша задача__ — привести к нижнему регистру и токенизировать все тексты в столбцах `Title` и `FullDescription`. Сохраните токенизированные данные в виде строки с токенами, разделенными __пробелами__, для повышения производительности.\n"
      ]
    },
    {
      "cell_type": "code",
      "execution_count": 51,
      "metadata": {
        "id": "zSXdXkxEYW9o",
        "scrolled": true
      },
      "outputs": [
        {
          "name": "stdout",
          "output_type": "stream",
          "text": [
            "Raw text:\n",
            "2         Mathematical Modeller / Simulation Analyst / O...\n",
            "100002    A successful and high achieving specialist sch...\n",
            "200002    Web Designer  HTML, CSS, JavaScript, Photoshop...\n",
            "Name: FullDescription, dtype: object\n"
          ]
        }
      ],
      "source": [
        "print(\"Raw text:\")\n",
        "print(data[\"FullDescription\"][2::100000])"
      ]
    },
    {
      "cell_type": "code",
      "execution_count": 52,
      "metadata": {
        "id": "sXBVEe_dYW9o"
      },
      "outputs": [],
      "source": [
        "import nltk\n",
        "#TODO YOUR CODE HERE\n",
        "\n",
        "tokenizer = nltk.tokenize.WordPunctTokenizer()\n",
        "# YOUR CODE HERE\n",
        "# Приводим к нижнему регистру и токенизируем\n",
        "data['FullDescription'] = data['FullDescription'].apply(lambda x: ' '.join(tokenizer.tokenize(str(x).lower())))\n",
        "data['Title'] = data['Title'].apply(lambda x: ' '.join(tokenizer.tokenize(str(x).lower())))"
      ]
    },
    {
      "cell_type": "markdown",
      "metadata": {
        "id": "Ry5YUK_XYW9o"
      },
      "source": [
        "Теперь мы можем предположить, что наш текст - это список лексем, разделенных пробелами:"
      ]
    },
    {
      "cell_type": "code",
      "execution_count": 53,
      "metadata": {
        "id": "MNxaDGUUYW9o"
      },
      "outputs": [
        {
          "name": "stdout",
          "output_type": "stream",
          "text": [
            "Tokenized:\n",
            "2         mathematical modeller / simulation analyst / o...\n",
            "100002    a successful and high achieving specialist sch...\n",
            "200002    web designer html , css , javascript , photosh...\n",
            "Name: FullDescription, dtype: object\n"
          ]
        }
      ],
      "source": [
        "print(\"Tokenized:\")\n",
        "print(data[\"FullDescription\"][2::100000])\n",
        "assert data[\"FullDescription\"][2][:50] == 'mathematical modeller / simulation analyst / opera'\n",
        "assert data[\"Title\"][54321] == 'international digital account manager ( german )'"
      ]
    },
    {
      "cell_type": "markdown",
      "metadata": {
        "id": "1qF1uDpi2RqP"
      },
      "source": [
        "Не все слова одинаково полезны. Некоторые из них - опечатки или редкие слова, которые встречаются всего несколько раз.\n",
        "\n",
        "Давайте подсчитаем, сколько раз каждое слово встречается в данных, чтобы составить «белый список» известных слов."
      ]
    },
    {
      "cell_type": "code",
      "execution_count": 54,
      "metadata": {
        "id": "bbvHsss1YW9o"
      },
      "outputs": [],
      "source": [
        "from collections import Counter\n",
        "token_counts = Counter()\n",
        "\n",
        "# Count how many times does each token occur in both \"Title\" and \"FullDescription\" in total\n",
        "#TODO <YOUR CODE>\n",
        "# Объединяем все токены из \"Title\" и \"FullDescription\"\n",
        "for tokens in data['Title']:\n",
        "    token_counts.update(tokens.split())\n",
        "\n",
        "for tokens in data['FullDescription']:\n",
        "    token_counts.update(tokens.split())"
      ]
    },
    {
      "cell_type": "code",
      "execution_count": 55,
      "metadata": {},
      "outputs": [
        {
          "data": {
            "text/plain": [
              "2657388"
            ]
          },
          "execution_count": 55,
          "metadata": {},
          "output_type": "execute_result"
        }
      ],
      "source": [
        "token_counts.most_common(1)[0][1]"
      ]
    },
    {
      "cell_type": "code",
      "execution_count": 56,
      "metadata": {},
      "outputs": [
        {
          "data": {
            "text/plain": [
              "202704"
            ]
          },
          "execution_count": 56,
          "metadata": {},
          "output_type": "execute_result"
        }
      ],
      "source": [
        "len(token_counts)"
      ]
    },
    {
      "cell_type": "code",
      "execution_count": 57,
      "metadata": {
        "id": "g12Ne0x92RqP"
      },
      "outputs": [
        {
          "name": "stdout",
          "output_type": "stream",
          "text": [
            "Total unique tokens : 202704\n",
            "('and', 2657388)\n",
            "('.', 2523216)\n",
            "(',', 2318606)\n",
            "('the', 2080994)\n",
            "('to', 2019884)\n",
            "...\n",
            "('stephanietraveltraderecruitmnt', 1)\n",
            "('ruabon', 1)\n",
            "('lowehays', 1)\n",
            "Correct!\n"
          ]
        }
      ],
      "source": [
        "print(\"Total unique tokens :\", len(token_counts))\n",
        "print('\\n'.join(map(str, token_counts.most_common(n=5))))\n",
        "print('...')\n",
        "print('\\n'.join(map(str, token_counts.most_common()[-3:])))\n",
        "\n",
        "assert token_counts.most_common(1)[0][1] in  range(2600000, 2700000)\n",
        "assert len(token_counts) in range(200000, 210000)\n",
        "print('Correct!')"
      ]
    },
    {
      "cell_type": "code",
      "execution_count": 58,
      "metadata": {
        "id": "BjQjcxpR2RqQ"
      },
      "outputs": [
        {
          "data": {
            "image/png": "[encoded data removed]",
            "text/plain": [
              "<Figure size 640x480 with 1 Axes>"
            ]
          },
          "metadata": {},
          "output_type": "display_data"
        }
      ],
      "source": [
        "# Let's see how many words are there for each count\n",
        "plt.hist(list(token_counts.values()), range=[0, 10**4], bins=50, log=True)\n",
        "plt.xlabel(\"Word counts\");"
      ]
    },
    {
      "cell_type": "markdown",
      "metadata": {
        "id": "HXjXS_oZ2RqQ"
      },
      "source": [
        "__Задание 1.1__ Получите список всех токенов, которые встречаются не менее 10 раз."
      ]
    },
    {
      "cell_type": "code",
      "execution_count": 59,
      "metadata": {
        "id": "JayaT2Cl2RqQ"
      },
      "outputs": [],
      "source": [
        "min_count = 10\n",
        "\n",
        "# tokens from token_counts keys that had at least min_count occurrences throughout the dataset\n",
        "tokens = [token for token, count in token_counts.items() if count >= min_count]\n",
        "\n",
        "# Add a special tokens for unknown and empty words\n",
        "UNK, PAD = \"UNK\", \"PAD\"\n",
        "tokens = [UNK, PAD] + tokens"
      ]
    },
    {
      "cell_type": "code",
      "execution_count": 60,
      "metadata": {
        "id": "cv4sKk_V2RqQ"
      },
      "outputs": [
        {
          "name": "stdout",
          "output_type": "stream",
          "text": [
            "Vocabulary size: 34158\n",
            "Correct!\n"
          ]
        }
      ],
      "source": [
        "print(\"Vocabulary size:\", len(tokens))\n",
        "assert type(tokens) == list\n",
        "assert len(tokens) in range(32000, 35000)\n",
        "assert 'me' in tokens\n",
        "assert UNK in tokens\n",
        "print(\"Correct!\")"
      ]
    },
    {
      "cell_type": "markdown",
      "metadata": {
        "id": "5lDkb5w02RqQ"
      },
      "source": [
        "__Задача 1.2__ Постройте обратный индекс токена: словарь от токена(string) до его индекса в `tokens` (int)"
      ]
    },
    {
      "cell_type": "code",
      "execution_count": 61,
      "metadata": {
        "id": "rb656LuY2RqQ"
      },
      "outputs": [],
      "source": [
        "token_to_id = {token: idx for idx, token in enumerate(tokens)}"
      ]
    },
    {
      "cell_type": "code",
      "execution_count": 64,
      "metadata": {
        "id": "BjOANmKH2RqQ"
      },
      "outputs": [
        {
          "name": "stdout",
          "output_type": "stream",
          "text": [
            "Correct!\n"
          ]
        }
      ],
      "source": [
        "assert isinstance(token_to_id, dict)\n",
        "assert len(token_to_id) == len(tokens)\n",
        "for tok in tokens:\n",
        "    assert tokens[token_to_id[tok]] == tok\n",
        "\n",
        "print(\"Correct!\")"
      ]
    },
    {
      "cell_type": "markdown",
      "metadata": {
        "id": "4OXmoEAi2RqQ"
      },
      "source": [
        "And finally, let's use the vocabulary you've built to map text lines into neural network-digestible matrices."
      ]
    },
    {
      "cell_type": "code",
      "execution_count": 65,
      "metadata": {
        "id": "nVXc6Cd62RqQ"
      },
      "outputs": [],
      "source": [
        "UNK_IX, PAD_IX = map(token_to_id.get, [UNK, PAD])\n",
        "\n",
        "def as_matrix(sequences, max_len=None):\n",
        "    \"\"\" Convert a list of tokens into a matrix with padding \"\"\"\n",
        "    if isinstance(sequences[0], str):\n",
        "        sequences = list(map(str.split, sequences))\n",
        "\n",
        "    max_len = min(max(map(len, sequences)), max_len or float('inf'))\n",
        "\n",
        "    matrix = np.full((len(sequences), max_len), np.int32(PAD_IX))\n",
        "    for i,seq in enumerate(sequences):\n",
        "        row_ix = [token_to_id.get(word, UNK_IX) for word in seq[:max_len]]\n",
        "        matrix[i, :len(row_ix)] = row_ix\n",
        "\n",
        "    return matrix"
      ]
    },
    {
      "cell_type": "code",
      "execution_count": 66,
      "metadata": {
        "id": "tU1TrTOV2RqR"
      },
      "outputs": [
        {
          "name": "stdout",
          "output_type": "stream",
          "text": [
            "Lines:\n",
            "engineering systems analyst\n",
            "hr assistant\n",
            "senior ec & i engineer\n",
            "\n",
            "Matrix:\n",
            "[[   2    3    4    1    1]\n",
            " [ 998  176    1    1    1]\n",
            " [  18 3472  242   59    6]]\n"
          ]
        }
      ],
      "source": [
        "print(\"Lines:\")\n",
        "print('\\n'.join(data[\"Title\"][::100000].values), end='\\n\\n')\n",
        "print(\"Matrix:\")\n",
        "print(as_matrix(data[\"Title\"][::100000]))"
      ]
    },
    {
      "cell_type": "markdown",
      "metadata": {
        "id": "zMPGp3gB2RqR"
      },
      "source": [
        "Теперь давайте закодируем имеющиеся у нас категориальные данные.\n",
        "\n",
        "Для простоты мы будем использовать кодировку one-hot. Но естесна тот же tfidf даст качество выше"
      ]
    },
    {
      "cell_type": "code",
      "execution_count": 67,
      "metadata": {
        "id": "7DFM83G52RqR"
      },
      "outputs": [
        {
          "data": {
            "text/html": [
              "<style>#sk-container-id-1 {\n",
              "  /* Definition of color scheme common for light and dark mode */\n",
              "  --sklearn-color-text: #000;\n",
              "  --sklearn-color-text-muted: #666;\n",
              "  --sklearn-color-line: gray;\n",
              "  /* Definition of color scheme for unfitted estimators */\n",
              "  --sklearn-color-unfitted-level-0: #fff5e6;\n",
              "  --sklearn-color-unfitted-level-1: #f6e4d2;\n",
              "  --sklearn-color-unfitted-level-2: #ffe0b3;\n",
              "  --sklearn-color-unfitted-level-3: chocolate;\n",
              "  /* Definition of color scheme for fitted estimators */\n",
              "  --sklearn-color-fitted-level-0: #f0f8ff;\n",
              "  --sklearn-color-fitted-level-1: #d4ebff;\n",
              "  --sklearn-color-fitted-level-2: #b3dbfd;\n",
              "  --sklearn-color-fitted-level-3: cornflowerblue;\n",
              "\n",
              "  /* Specific color for light theme */\n",
              "  --sklearn-color-text-on-default-background: var(--sg-text-color, var(--theme-code-foreground, var(--jp-content-font-color1, black)));\n",
              "  --sklearn-color-background: var(--sg-background-color, var(--theme-background, var(--jp-layout-color0, white)));\n",
              "  --sklearn-color-border-box: var(--sg-text-color, var(--theme-code-foreground, var(--jp-content-font-color1, black)));\n",
              "  --sklearn-color-icon: #696969;\n",
              "\n",
              "  @media (prefers-color-scheme: dark) {\n",
              "    /* Redefinition of color scheme for dark theme */\n",
              "    --sklearn-color-text-on-default-background: var(--sg-text-color, var(--theme-code-foreground, var(--jp-content-font-color1, white)));\n",
              "    --sklearn-color-background: var(--sg-background-color, var(--theme-background, var(--jp-layout-color0, #111)));\n",
              "    --sklearn-color-border-box: var(--sg-text-color, var(--theme-code-foreground, var(--jp-content-font-color1, white)));\n",
              "    --sklearn-color-icon: #878787;\n",
              "  }\n",
              "}\n",
              "\n",
              "#sk-container-id-1 {\n",
              "  color: var(--sklearn-color-text);\n",
              "}\n",
              "\n",
              "#sk-container-id-1 pre {\n",
              "  padding: 0;\n",
              "}\n",
              "\n",
              "#sk-container-id-1 input.sk-hidden--visually {\n",
              "  border: 0;\n",
              "  clip: rect(1px 1px 1px 1px);\n",
              "  clip: rect(1px, 1px, 1px, 1px);\n",
              "  height: 1px;\n",
              "  margin: -1px;\n",
              "  overflow: hidden;\n",
              "  padding: 0;\n",
              "  position: absolute;\n",
              "  width: 1px;\n",
              "}\n",
              "\n",
              "#sk-container-id-1 div.sk-dashed-wrapped {\n",
              "  border: 1px dashed var(--sklearn-color-line);\n",
              "  margin: 0 0.4em 0.5em 0.4em;\n",
              "  box-sizing: border-box;\n",
              "  padding-bottom: 0.4em;\n",
              "  background-color: var(--sklearn-color-background);\n",
              "}\n",
              "\n",
              "#sk-container-id-1 div.sk-container {\n",
              "  /* jupyter's `normalize.less` sets `[hidden] { display: none; }`\n",
              "     but bootstrap.min.css set `[hidden] { display: none !important; }`\n",
              "     so we also need the `!important` here to be able to override the\n",
              "     default hidden behavior on the sphinx rendered scikit-learn.org.\n",
              "     See: https://github.com/scikit-learn/scikit-learn/issues/21755 */\n",
              "  display: inline-block !important;\n",
              "  position: relative;\n",
              "}\n",
              "\n",
              "#sk-container-id-1 div.sk-text-repr-fallback {\n",
              "  display: none;\n",
              "}\n",
              "\n",
              "div.sk-parallel-item,\n",
              "div.sk-serial,\n",
              "div.sk-item {\n",
              "  /* draw centered vertical line to link estimators */\n",
              "  background-image: linear-gradient(var(--sklearn-color-text-on-default-background), var(--sklearn-color-text-on-default-background));\n",
              "  background-size: 2px 100%;\n",
              "  background-repeat: no-repeat;\n",
              "  background-position: center center;\n",
              "}\n",
              "\n",
              "/* Parallel-specific style estimator block */\n",
              "\n",
              "#sk-container-id-1 div.sk-parallel-item::after {\n",
              "  content: \"\";\n",
              "  width: 100%;\n",
              "  border-bottom: 2px solid var(--sklearn-color-text-on-default-background);\n",
              "  flex-grow: 1;\n",
              "}\n",
              "\n",
              "#sk-container-id-1 div.sk-parallel {\n",
              "  display: flex;\n",
              "  align-items: stretch;\n",
              "  justify-content: center;\n",
              "  background-color: var(--sklearn-color-background);\n",
              "  position: relative;\n",
              "}\n",
              "\n",
              "#sk-container-id-1 div.sk-parallel-item {\n",
              "  display: flex;\n",
              "  flex-direction: column;\n",
              "}\n",
              "\n",
              "#sk-container-id-1 div.sk-parallel-item:first-child::after {\n",
              "  align-self: flex-end;\n",
              "  width: 50%;\n",
              "}\n",
              "\n",
              "#sk-container-id-1 div.sk-parallel-item:last-child::after {\n",
              "  align-self: flex-start;\n",
              "  width: 50%;\n",
              "}\n",
              "\n",
              "#sk-container-id-1 div.sk-parallel-item:only-child::after {\n",
              "  width: 0;\n",
              "}\n",
              "\n",
              "/* Serial-specific style estimator block */\n",
              "\n",
              "#sk-container-id-1 div.sk-serial {\n",
              "  display: flex;\n",
              "  flex-direction: column;\n",
              "  align-items: center;\n",
              "  background-color: var(--sklearn-color-background);\n",
              "  padding-right: 1em;\n",
              "  padding-left: 1em;\n",
              "}\n",
              "\n",
              "\n",
              "/* Toggleable style: style used for estimator/Pipeline/ColumnTransformer box that is\n",
              "clickable and can be expanded/collapsed.\n",
              "- Pipeline and ColumnTransformer use this feature and define the default style\n",
              "- Estimators will overwrite some part of the style using the `sk-estimator` class\n",
              "*/\n",
              "\n",
              "/* Pipeline and ColumnTransformer style (default) */\n",
              "\n",
              "#sk-container-id-1 div.sk-toggleable {\n",
              "  /* Default theme specific background. It is overwritten whether we have a\n",
              "  specific estimator or a Pipeline/ColumnTransformer */\n",
              "  background-color: var(--sklearn-color-background);\n",
              "}\n",
              "\n",
              "/* Toggleable label */\n",
              "#sk-container-id-1 label.sk-toggleable__label {\n",
              "  cursor: pointer;\n",
              "  display: flex;\n",
              "  width: 100%;\n",
              "  margin-bottom: 0;\n",
              "  padding: 0.5em;\n",
              "  box-sizing: border-box;\n",
              "  text-align: center;\n",
              "  align-items: start;\n",
              "  justify-content: space-between;\n",
              "  gap: 0.5em;\n",
              "}\n",
              "\n",
              "#sk-container-id-1 label.sk-toggleable__label .caption {\n",
              "  font-size: 0.6rem;\n",
              "  font-weight: lighter;\n",
              "  color: var(--sklearn-color-text-muted);\n",
              "}\n",
              "\n",
              "#sk-container-id-1 label.sk-toggleable__label-arrow:before {\n",
              "  /* Arrow on the left of the label */\n",
              "  content: \"▸\";\n",
              "  float: left;\n",
              "  margin-right: 0.25em;\n",
              "  color: var(--sklearn-color-icon);\n",
              "}\n",
              "\n",
              "#sk-container-id-1 label.sk-toggleable__label-arrow:hover:before {\n",
              "  color: var(--sklearn-color-text);\n",
              "}\n",
              "\n",
              "/* Toggleable content - dropdown */\n",
              "\n",
              "#sk-container-id-1 div.sk-toggleable__content {\n",
              "  display: none;\n",
              "  text-align: left;\n",
              "  /* unfitted */\n",
              "  background-color: var(--sklearn-color-unfitted-level-0);\n",
              "}\n",
              "\n",
              "#sk-container-id-1 div.sk-toggleable__content.fitted {\n",
              "  /* fitted */\n",
              "  background-color: var(--sklearn-color-fitted-level-0);\n",
              "}\n",
              "\n",
              "#sk-container-id-1 div.sk-toggleable__content pre {\n",
              "  margin: 0.2em;\n",
              "  border-radius: 0.25em;\n",
              "  color: var(--sklearn-color-text);\n",
              "  /* unfitted */\n",
              "  background-color: var(--sklearn-color-unfitted-level-0);\n",
              "}\n",
              "\n",
              "#sk-container-id-1 div.sk-toggleable__content.fitted pre {\n",
              "  /* unfitted */\n",
              "  background-color: var(--sklearn-color-fitted-level-0);\n",
              "}\n",
              "\n",
              "#sk-container-id-1 input.sk-toggleable__control:checked~div.sk-toggleable__content {\n",
              "  /* Expand drop-down */\n",
              "  display: block;\n",
              "  width: 100%;\n",
              "  overflow: visible;\n",
              "}\n",
              "\n",
              "#sk-container-id-1 input.sk-toggleable__control:checked~label.sk-toggleable__label-arrow:before {\n",
              "  content: \"▾\";\n",
              "}\n",
              "\n",
              "/* Pipeline/ColumnTransformer-specific style */\n",
              "\n",
              "#sk-container-id-1 div.sk-label input.sk-toggleable__control:checked~label.sk-toggleable__label {\n",
              "  color: var(--sklearn-color-text);\n",
              "  background-color: var(--sklearn-color-unfitted-level-2);\n",
              "}\n",
              "\n",
              "#sk-container-id-1 div.sk-label.fitted input.sk-toggleable__control:checked~label.sk-toggleable__label {\n",
              "  background-color: var(--sklearn-color-fitted-level-2);\n",
              "}\n",
              "\n",
              "/* Estimator-specific style */\n",
              "\n",
              "/* Colorize estimator box */\n",
              "#sk-container-id-1 div.sk-estimator input.sk-toggleable__control:checked~label.sk-toggleable__label {\n",
              "  /* unfitted */\n",
              "  background-color: var(--sklearn-color-unfitted-level-2);\n",
              "}\n",
              "\n",
              "#sk-container-id-1 div.sk-estimator.fitted input.sk-toggleable__control:checked~label.sk-toggleable__label {\n",
              "  /* fitted */\n",
              "  background-color: var(--sklearn-color-fitted-level-2);\n",
              "}\n",
              "\n",
              "#sk-container-id-1 div.sk-label label.sk-toggleable__label,\n",
              "#sk-container-id-1 div.sk-label label {\n",
              "  /* The background is the default theme color */\n",
              "  color: var(--sklearn-color-text-on-default-background);\n",
              "}\n",
              "\n",
              "/* On hover, darken the color of the background */\n",
              "#sk-container-id-1 div.sk-label:hover label.sk-toggleable__label {\n",
              "  color: var(--sklearn-color-text);\n",
              "  background-color: var(--sklearn-color-unfitted-level-2);\n",
              "}\n",
              "\n",
              "/* Label box, darken color on hover, fitted */\n",
              "#sk-container-id-1 div.sk-label.fitted:hover label.sk-toggleable__label.fitted {\n",
              "  color: var(--sklearn-color-text);\n",
              "  background-color: var(--sklearn-color-fitted-level-2);\n",
              "}\n",
              "\n",
              "/* Estimator label */\n",
              "\n",
              "#sk-container-id-1 div.sk-label label {\n",
              "  font-family: monospace;\n",
              "  font-weight: bold;\n",
              "  display: inline-block;\n",
              "  line-height: 1.2em;\n",
              "}\n",
              "\n",
              "#sk-container-id-1 div.sk-label-container {\n",
              "  text-align: center;\n",
              "}\n",
              "\n",
              "/* Estimator-specific */\n",
              "#sk-container-id-1 div.sk-estimator {\n",
              "  font-family: monospace;\n",
              "  border: 1px dotted var(--sklearn-color-border-box);\n",
              "  border-radius: 0.25em;\n",
              "  box-sizing: border-box;\n",
              "  margin-bottom: 0.5em;\n",
              "  /* unfitted */\n",
              "  background-color: var(--sklearn-color-unfitted-level-0);\n",
              "}\n",
              "\n",
              "#sk-container-id-1 div.sk-estimator.fitted {\n",
              "  /* fitted */\n",
              "  background-color: var(--sklearn-color-fitted-level-0);\n",
              "}\n",
              "\n",
              "/* on hover */\n",
              "#sk-container-id-1 div.sk-estimator:hover {\n",
              "  /* unfitted */\n",
              "  background-color: var(--sklearn-color-unfitted-level-2);\n",
              "}\n",
              "\n",
              "#sk-container-id-1 div.sk-estimator.fitted:hover {\n",
              "  /* fitted */\n",
              "  background-color: var(--sklearn-color-fitted-level-2);\n",
              "}\n",
              "\n",
              "/* Specification for estimator info (e.g. \"i\" and \"?\") */\n",
              "\n",
              "/* Common style for \"i\" and \"?\" */\n",
              "\n",
              ".sk-estimator-doc-link,\n",
              "a:link.sk-estimator-doc-link,\n",
              "a:visited.sk-estimator-doc-link {\n",
              "  float: right;\n",
              "  font-size: smaller;\n",
              "  line-height: 1em;\n",
              "  font-family: monospace;\n",
              "  background-color: var(--sklearn-color-background);\n",
              "  border-radius: 1em;\n",
              "  height: 1em;\n",
              "  width: 1em;\n",
              "  text-decoration: none !important;\n",
              "  margin-left: 0.5em;\n",
              "  text-align: center;\n",
              "  /* unfitted */\n",
              "  border: var(--sklearn-color-unfitted-level-1) 1pt solid;\n",
              "  color: var(--sklearn-color-unfitted-level-1);\n",
              "}\n",
              "\n",
              ".sk-estimator-doc-link.fitted,\n",
              "a:link.sk-estimator-doc-link.fitted,\n",
              "a:visited.sk-estimator-doc-link.fitted {\n",
              "  /* fitted */\n",
              "  border: var(--sklearn-color-fitted-level-1) 1pt solid;\n",
              "  color: var(--sklearn-color-fitted-level-1);\n",
              "}\n",
              "\n",
              "/* On hover */\n",
              "div.sk-estimator:hover .sk-estimator-doc-link:hover,\n",
              ".sk-estimator-doc-link:hover,\n",
              "div.sk-label-container:hover .sk-estimator-doc-link:hover,\n",
              ".sk-estimator-doc-link:hover {\n",
              "  /* unfitted */\n",
              "  background-color: var(--sklearn-color-unfitted-level-3);\n",
              "  color: var(--sklearn-color-background);\n",
              "  text-decoration: none;\n",
              "}\n",
              "\n",
              "div.sk-estimator.fitted:hover .sk-estimator-doc-link.fitted:hover,\n",
              ".sk-estimator-doc-link.fitted:hover,\n",
              "div.sk-label-container:hover .sk-estimator-doc-link.fitted:hover,\n",
              ".sk-estimator-doc-link.fitted:hover {\n",
              "  /* fitted */\n",
              "  background-color: var(--sklearn-color-fitted-level-3);\n",
              "  color: var(--sklearn-color-background);\n",
              "  text-decoration: none;\n",
              "}\n",
              "\n",
              "/* Span, style for the box shown on hovering the info icon */\n",
              ".sk-estimator-doc-link span {\n",
              "  display: none;\n",
              "  z-index: 9999;\n",
              "  position: relative;\n",
              "  font-weight: normal;\n",
              "  right: .2ex;\n",
              "  padding: .5ex;\n",
              "  margin: .5ex;\n",
              "  width: min-content;\n",
              "  min-width: 20ex;\n",
              "  max-width: 50ex;\n",
              "  color: var(--sklearn-color-text);\n",
              "  box-shadow: 2pt 2pt 4pt #999;\n",
              "  /* unfitted */\n",
              "  background: var(--sklearn-color-unfitted-level-0);\n",
              "  border: .5pt solid var(--sklearn-color-unfitted-level-3);\n",
              "}\n",
              "\n",
              ".sk-estimator-doc-link.fitted span {\n",
              "  /* fitted */\n",
              "  background: var(--sklearn-color-fitted-level-0);\n",
              "  border: var(--sklearn-color-fitted-level-3);\n",
              "}\n",
              "\n",
              ".sk-estimator-doc-link:hover span {\n",
              "  display: block;\n",
              "}\n",
              "\n",
              "/* \"?\"-specific style due to the `<a>` HTML tag */\n",
              "\n",
              "#sk-container-id-1 a.estimator_doc_link {\n",
              "  float: right;\n",
              "  font-size: 1rem;\n",
              "  line-height: 1em;\n",
              "  font-family: monospace;\n",
              "  background-color: var(--sklearn-color-background);\n",
              "  border-radius: 1rem;\n",
              "  height: 1rem;\n",
              "  width: 1rem;\n",
              "  text-decoration: none;\n",
              "  /* unfitted */\n",
              "  color: var(--sklearn-color-unfitted-level-1);\n",
              "  border: var(--sklearn-color-unfitted-level-1) 1pt solid;\n",
              "}\n",
              "\n",
              "#sk-container-id-1 a.estimator_doc_link.fitted {\n",
              "  /* fitted */\n",
              "  border: var(--sklearn-color-fitted-level-1) 1pt solid;\n",
              "  color: var(--sklearn-color-fitted-level-1);\n",
              "}\n",
              "\n",
              "/* On hover */\n",
              "#sk-container-id-1 a.estimator_doc_link:hover {\n",
              "  /* unfitted */\n",
              "  background-color: var(--sklearn-color-unfitted-level-3);\n",
              "  color: var(--sklearn-color-background);\n",
              "  text-decoration: none;\n",
              "}\n",
              "\n",
              "#sk-container-id-1 a.estimator_doc_link.fitted:hover {\n",
              "  /* fitted */\n",
              "  background-color: var(--sklearn-color-fitted-level-3);\n",
              "}\n",
              "\n",
              ".estimator-table summary {\n",
              "    padding: .5rem;\n",
              "    font-family: monospace;\n",
              "    cursor: pointer;\n",
              "}\n",
              "\n",
              ".estimator-table details[open] {\n",
              "    padding-left: 0.1rem;\n",
              "    padding-right: 0.1rem;\n",
              "    padding-bottom: 0.3rem;\n",
              "}\n",
              "\n",
              ".estimator-table .parameters-table {\n",
              "    margin-left: auto !important;\n",
              "    margin-right: auto !important;\n",
              "}\n",
              "\n",
              ".estimator-table .parameters-table tr:nth-child(odd) {\n",
              "    background-color: #fff;\n",
              "}\n",
              "\n",
              ".estimator-table .parameters-table tr:nth-child(even) {\n",
              "    background-color: #f6f6f6;\n",
              "}\n",
              "\n",
              ".estimator-table .parameters-table tr:hover {\n",
              "    background-color: #e0e0e0;\n",
              "}\n",
              "\n",
              ".estimator-table table td {\n",
              "    border: 1px solid rgba(106, 105, 104, 0.232);\n",
              "}\n",
              "\n",
              ".user-set td {\n",
              "    color:rgb(255, 94, 0);\n",
              "    text-align: left;\n",
              "}\n",
              "\n",
              ".user-set td.value pre {\n",
              "    color:rgb(255, 94, 0) !important;\n",
              "    background-color: transparent !important;\n",
              "}\n",
              "\n",
              ".default td {\n",
              "    color: black;\n",
              "    text-align: left;\n",
              "}\n",
              "\n",
              ".user-set td i,\n",
              ".default td i {\n",
              "    color: black;\n",
              "}\n",
              "\n",
              ".copy-paste-icon {\n",
              "    background-image: url(data:image/svg+xml;base64,PHN2ZyB4bWxucz0iaHR0cDovL3d3dy53My5vcmcvMjAwMC9zdmciIHZpZXdCb3g9IjAgMCA0NDggNTEyIj48IS0tIUZvbnQgQXdlc29tZSBGcmVlIDYuNy4yIGJ5IEBmb250YXdlc29tZSAtIGh0dHBzOi8vZm9udGF3ZXNvbWUuY29tIExpY2Vuc2UgLSBodHRwczovL2ZvbnRhd2Vzb21lLmNvbS9saWNlbnNlL2ZyZWUgQ29weXJpZ2h0IDIwMjUgRm9udGljb25zLCBJbmMuLS0+PHBhdGggZD0iTTIwOCAwTDMzMi4xIDBjMTIuNyAwIDI0LjkgNS4xIDMzLjkgMTQuMWw2Ny45IDY3LjljOSA5IDE0LjEgMjEuMiAxNC4xIDMzLjlMNDQ4IDMzNmMwIDI2LjUtMjEuNSA0OC00OCA0OGwtMTkyIDBjLTI2LjUgMC00OC0yMS41LTQ4LTQ4bDAtMjg4YzAtMjYuNSAyMS41LTQ4IDQ4LTQ4ek00OCAxMjhsODAgMCAwIDY0LTY0IDAgMCAyNTYgMTkyIDAgMC0zMiA2NCAwIDAgNDhjMCAyNi41LTIxLjUgNDgtNDggNDhMNDggNTEyYy0yNi41IDAtNDgtMjEuNS00OC00OEwwIDE3NmMwLTI2LjUgMjEuNS00OCA0OC00OHoiLz48L3N2Zz4=);\n",
              "    background-repeat: no-repeat;\n",
              "    background-size: 14px 14px;\n",
              "    background-position: 0;\n",
              "    display: inline-block;\n",
              "    width: 14px;\n",
              "    height: 14px;\n",
              "    cursor: pointer;\n",
              "}\n",
              "</style><body><div id=\"sk-container-id-1\" class=\"sk-top-container\"><div class=\"sk-text-repr-fallback\"><pre>DictVectorizer(dtype=&lt;class &#x27;numpy.float32&#x27;&gt;, sparse=False)</pre><b>In a Jupyter environment, please rerun this cell to show the HTML representation or trust the notebook. <br />On GitHub, the HTML representation is unable to render, please try loading this page with nbviewer.org.</b></div><div class=\"sk-container\" hidden><div class=\"sk-item\"><div class=\"sk-estimator fitted sk-toggleable\"><input class=\"sk-toggleable__control sk-hidden--visually\" id=\"sk-estimator-id-1\" type=\"checkbox\" checked><label for=\"sk-estimator-id-1\" class=\"sk-toggleable__label fitted sk-toggleable__label-arrow\"><div><div>DictVectorizer</div></div><div><a class=\"sk-estimator-doc-link fitted\" rel=\"noreferrer\" target=\"_blank\" href=\"https://scikit-learn.org/1.7/modules/generated/sklearn.feature_extraction.DictVectorizer.html\">?<span>Documentation for DictVectorizer</span></a><span class=\"sk-estimator-doc-link fitted\">i<span>Fitted</span></span></div></label><div class=\"sk-toggleable__content fitted\" data-param-prefix=\"\">\n",
              "        <div class=\"estimator-table\">\n",
              "            <details>\n",
              "                <summary>Parameters</summary>\n",
              "                <table class=\"parameters-table\">\n",
              "                  <tbody>\n",
              "                    \n",
              "        <tr class=\"user-set\">\n",
              "            <td><i class=\"copy-paste-icon\"\n",
              "                 onclick=\"copyToClipboard('dtype',\n",
              "                          this.parentElement.nextElementSibling)\"\n",
              "            ></i></td>\n",
              "            <td class=\"param\">dtype&nbsp;</td>\n",
              "            <td class=\"value\">&lt;class &#x27;numpy.float32&#x27;&gt;</td>\n",
              "        </tr>\n",
              "    \n",
              "\n",
              "        <tr class=\"default\">\n",
              "            <td><i class=\"copy-paste-icon\"\n",
              "                 onclick=\"copyToClipboard('separator',\n",
              "                          this.parentElement.nextElementSibling)\"\n",
              "            ></i></td>\n",
              "            <td class=\"param\">separator&nbsp;</td>\n",
              "            <td class=\"value\">&#x27;=&#x27;</td>\n",
              "        </tr>\n",
              "    \n",
              "\n",
              "        <tr class=\"user-set\">\n",
              "            <td><i class=\"copy-paste-icon\"\n",
              "                 onclick=\"copyToClipboard('sparse',\n",
              "                          this.parentElement.nextElementSibling)\"\n",
              "            ></i></td>\n",
              "            <td class=\"param\">sparse&nbsp;</td>\n",
              "            <td class=\"value\">False</td>\n",
              "        </tr>\n",
              "    \n",
              "\n",
              "        <tr class=\"default\">\n",
              "            <td><i class=\"copy-paste-icon\"\n",
              "                 onclick=\"copyToClipboard('sort',\n",
              "                          this.parentElement.nextElementSibling)\"\n",
              "            ></i></td>\n",
              "            <td class=\"param\">sort&nbsp;</td>\n",
              "            <td class=\"value\">True</td>\n",
              "        </tr>\n",
              "    \n",
              "                  </tbody>\n",
              "                </table>\n",
              "            </details>\n",
              "        </div>\n",
              "    </div></div></div></div></div><script>function copyToClipboard(text, element) {\n",
              "    // Get the parameter prefix from the closest toggleable content\n",
              "    const toggleableContent = element.closest('.sk-toggleable__content');\n",
              "    const paramPrefix = toggleableContent ? toggleableContent.dataset.paramPrefix : '';\n",
              "    const fullParamName = paramPrefix ? `${paramPrefix}${text}` : text;\n",
              "\n",
              "    const originalStyle = element.style;\n",
              "    const computedStyle = window.getComputedStyle(element);\n",
              "    const originalWidth = computedStyle.width;\n",
              "    const originalHTML = element.innerHTML.replace('Copied!', '');\n",
              "\n",
              "    navigator.clipboard.writeText(fullParamName)\n",
              "        .then(() => {\n",
              "            element.style.width = originalWidth;\n",
              "            element.style.color = 'green';\n",
              "            element.innerHTML = \"Copied!\";\n",
              "\n",
              "            setTimeout(() => {\n",
              "                element.innerHTML = originalHTML;\n",
              "                element.style = originalStyle;\n",
              "            }, 2000);\n",
              "        })\n",
              "        .catch(err => {\n",
              "            console.error('Failed to copy:', err);\n",
              "            element.style.color = 'red';\n",
              "            element.innerHTML = \"Failed!\";\n",
              "            setTimeout(() => {\n",
              "                element.innerHTML = originalHTML;\n",
              "                element.style = originalStyle;\n",
              "            }, 2000);\n",
              "        });\n",
              "    return false;\n",
              "}\n",
              "\n",
              "document.querySelectorAll('.fa-regular.fa-copy').forEach(function(element) {\n",
              "    const toggleableContent = element.closest('.sk-toggleable__content');\n",
              "    const paramPrefix = toggleableContent ? toggleableContent.dataset.paramPrefix : '';\n",
              "    const paramName = element.parentElement.nextElementSibling.textContent.trim();\n",
              "    const fullParamName = paramPrefix ? `${paramPrefix}${paramName}` : paramName;\n",
              "\n",
              "    element.setAttribute('title', fullParamName);\n",
              "});\n",
              "</script></body>"
            ],
            "text/plain": [
              "DictVectorizer(dtype=<class 'numpy.float32'>, sparse=False)"
            ]
          },
          "execution_count": 67,
          "metadata": {},
          "output_type": "execute_result"
        }
      ],
      "source": [
        "from sklearn.feature_extraction import DictVectorizer\n",
        "\n",
        "# we only consider top-1k most frequent companies to minimize memory usage\n",
        "top_companies, top_counts = zip(*Counter(data['Company']).most_common(1000))\n",
        "recognized_companies = set(top_companies)\n",
        "data[\"Company\"] = data[\"Company\"].apply(lambda comp: comp if comp in recognized_companies else \"Other\")\n",
        "\n",
        "categorical_vectorizer = DictVectorizer(dtype=np.float32, sparse=False)\n",
        "categorical_vectorizer.fit(data[categorical_columns].apply(dict, axis=1))"
      ]
    },
    {
      "cell_type": "markdown",
      "metadata": {
        "id": "cghlY98L2RqR"
      },
      "source": [
        "### DL Part (Хелло Д.В. Сош.)\n",
        "\n",
        "После того как мы научились токенизировать данные, давайте подкрадемся к машинному обучению.\n",
        "\n",
        "Для простоты - обычный train test split"
      ]
    },
    {
      "cell_type": "code",
      "execution_count": 68,
      "metadata": {
        "id": "fT4URTg42RqR"
      },
      "outputs": [
        {
          "name": "stdout",
          "output_type": "stream",
          "text": [
            "Train size =  195814\n",
            "Validation size =  48954\n"
          ]
        }
      ],
      "source": [
        "from sklearn.model_selection import train_test_split\n",
        "\n",
        "data_train, data_val = train_test_split(data, test_size=0.2, random_state=42)\n",
        "data_train.index = range(len(data_train))\n",
        "data_val.index = range(len(data_val))\n",
        "\n",
        "print(\"Train size = \", len(data_train))\n",
        "print(\"Validation size = \", len(data_val))"
      ]
    },
    {
      "cell_type": "markdown",
      "metadata": {
        "id": "bSoY2zxUaXhw"
      },
      "source": [
        "ЕСТЬ ВОПРОСИК!!!"
      ]
    },
    {
      "cell_type": "code",
      "execution_count": 69,
      "metadata": {
        "id": "3AWKFWlA2RqR"
      },
      "outputs": [],
      "source": [
        "import torch\n",
        "import torch.nn as nn\n",
        "import torch.nn.functional as F\n",
        "\n",
        "\n",
        "device = 'cuda' if torch.cuda.is_available() else 'cpu'\n",
        "\n",
        "\n",
        "def to_tensors(batch, device):\n",
        "    batch_tensors = dict()\n",
        "    for key, arr in batch.items():\n",
        "        if key in [\"FullDescription\", \"Title\"]:\n",
        "            batch_tensors[key] = torch.tensor(arr, device=device, dtype=torch.int64)\n",
        "        else:\n",
        "            batch_tensors[key] = torch.tensor(arr, device=device)\n",
        "    return batch_tensors\n",
        "\n",
        "\n",
        "def make_batch(data, max_len=None, word_dropout=0, device=device):\n",
        "    \"\"\"\n",
        "    Creates a keras-friendly dict from the batch data.\n",
        "    :param word_dropout: replaces token index with UNK_IX with this probability\n",
        "    :returns: a dict with {'title' : int64[batch, title_max_len]\n",
        "    \"\"\"\n",
        "    batch = {}\n",
        "    batch[\"Title\"] = as_matrix(data[\"Title\"].values, max_len)\n",
        "    batch[\"FullDescription\"] = as_matrix(data[\"FullDescription\"].values, max_len)\n",
        "    batch['Categorical'] = categorical_vectorizer.transform(data[categorical_columns].apply(dict, axis=1))\n",
        "\n",
        "    if word_dropout != 0:\n",
        "        batch[\"FullDescription\"] = apply_word_dropout(batch[\"FullDescription\"], 1. - word_dropout)\n",
        "\n",
        "    if TARGET_COLUMN in data.columns:\n",
        "        batch[TARGET_COLUMN] = data[TARGET_COLUMN].values\n",
        "\n",
        "    return to_tensors(batch, device)\n",
        "\n",
        "def apply_word_dropout(matrix, keep_prop, replace_with=UNK_IX, pad_ix=PAD_IX,):\n",
        "    dropout_mask = np.random.choice(2, np.shape(matrix), p=[keep_prop, 1 - keep_prop])\n",
        "    dropout_mask &= matrix != pad_ix\n",
        "    return np.choose(dropout_mask, [matrix, np.full_like(matrix, replace_with)])"
      ]
    },
    {
      "cell_type": "code",
      "execution_count": 70,
      "metadata": {
        "id": "TwJnMUwP2RqR",
        "scrolled": true
      },
      "outputs": [
        {
          "data": {
            "text/plain": [
              "{'Title': tensor([[   18,   287,   359,     1,     1,     1,     1],\n",
              "         [ 2863,    11,    12,    13,    55,    37, 12109],\n",
              "         [ 2833,   618,   858,    63,  7104,  7105,    64]], device='cuda:0'),\n",
              " 'FullDescription': tensor([[   18,   287,   359,  1408,   561,    18,   287,   359,  1464,  1408],\n",
              "         [ 2863,    11,    12,    13,    55,    37, 12109,  1767,  1166,    74],\n",
              "         [  142,  1617,  8830,  1314,  1464,   559,   560,   561,   618,   858]],\n",
              "        device='cuda:0'),\n",
              " 'Categorical': tensor([[0., 0., 0.,  ..., 0., 0., 0.],\n",
              "         [0., 0., 0.,  ..., 0., 0., 0.],\n",
              "         [0., 0., 0.,  ..., 0., 0., 0.]], device='cuda:0'),\n",
              " 'Log1pSalary': tensor([ 9.7115, 10.4631, 10.7144], device='cuda:0')}"
            ]
          },
          "execution_count": 70,
          "metadata": {},
          "output_type": "execute_result"
        }
      ],
      "source": [
        "make_batch(data_train[:3], max_len=10)"
      ]
    },
    {
      "cell_type": "markdown",
      "metadata": {
        "id": "i79kWoxY2RqS"
      },
      "source": [
        "#### Архитектура\n",
        "\n",
        "Наша базовая модель состоит из трех частей:\n",
        "* Title Encoder\n",
        "* Description encoder\n",
        "* Categorical features encoder\n",
        "\n",
        "Затем мы объединим все 3 реза в одну сетку, которая предсказывает зарплату.\n"
      ]
    },
    {
      "cell_type": "markdown",
      "metadata": {
        "id": "r6OEYNRPcnYu"
      },
      "source": [
        "\n",
        "<img src=\"https://i.imgur.com/yP8CgVK.png\" alt=\"Image\" width=\"400\"/>"
      ]
    },
    {
      "cell_type": "code",
      "execution_count": 71,
      "metadata": {
        "id": "6pQHpS_Z2RqS"
      },
      "outputs": [],
      "source": [
        "class SalaryPredictor(nn.Module):\n",
        "    def __init__(\n",
        "        self,\n",
        "        n_tokens: int = len(tokens),\n",
        "        n_cat_features: int = len(categorical_vectorizer.vocabulary_),\n",
        "        hid_size: int = 64,\n",
        "        pad_ix: int = PAD_IX,\n",
        "    ):\n",
        "        super().__init__()\n",
        "        # token embedding\n",
        "        self.token_emb = nn.Embedding(n_tokens, hid_size, padding_idx=pad_ix)\n",
        "        # project categorical one-hot / count features into hid_size\n",
        "        self.cat_lin = nn.Linear(n_cat_features, hid_size)\n",
        "        # combine title, description and cat into hidden\n",
        "        self.fc1 = nn.Linear(hid_size * 3, hid_size)\n",
        "        # final regression output\n",
        "        self.fc2 = nn.Linear(hid_size, 1)\n",
        "        self.pad_ix = pad_ix\n",
        "\n",
        "    def forward(self, batch: dict) -> torch.Tensor:\n",
        "        \"\"\"\n",
        "        batch[\"Title\"]:        LongTensor [B, L1]\n",
        "        batch[\"FullDescription\"]: LongTensor [B, L2]\n",
        "        batch[\"Categorical\"]:  FloatTensor [B, n_cat]\n",
        "        returns: FloatTensor [B] of salary predictions\n",
        "        \"\"\"\n",
        "        title_ids = batch[\"Title\"]\n",
        "        desc_ids  = batch[\"FullDescription\"]\n",
        "        cat_feats = batch[\"Categorical\"]\n",
        "\n",
        "        # embed and mask-out pads, then average\n",
        "        def avg_embed(ids: torch.LongTensor):\n",
        "            emb = self.token_emb(ids)                                # [B, L, H]\n",
        "            mask = (ids != self.pad_ix).unsqueeze(-1).float()        # [B, L, 1]\n",
        "            summed = (emb * mask).sum(dim=1)                         # [B, H]\n",
        "            lengths = mask.sum(dim=1).clamp(min=1.0)                 # [B, 1]\n",
        "            return summed / lengths                                  # [B, H]\n",
        "\n",
        "        title_vec = avg_embed(title_ids)                             # [B, H]\n",
        "        desc_vec  = avg_embed(desc_ids)                              # [B, H]\n",
        "        cat_vec   = F.relu(self.cat_lin(cat_feats))                  # [B, H]\n",
        "\n",
        "        # concatenate and MLP\n",
        "        x = torch.cat([title_vec, desc_vec, cat_vec], dim=1)         # [B, 3H]\n",
        "        x = F.relu(self.fc1(x))                                      # [B, H]\n",
        "        out = self.fc2(x).squeeze(-1)                                # [B]\n",
        "        return out\n",
        "\n"
      ]
    },
    {
      "cell_type": "code",
      "execution_count": 72,
      "metadata": {
        "id": "6WlTss7q2RqS"
      },
      "outputs": [],
      "source": [
        "model = SalaryPredictor()"
      ]
    },
    {
      "cell_type": "code",
      "execution_count": 73,
      "metadata": {
        "id": "F40tb5ZA2RqS"
      },
      "outputs": [],
      "source": [
        "model = SalaryPredictor().to(device)\n",
        "batch = make_batch(data_train[:100], device=device)\n",
        "criterion = nn.MSELoss()\n",
        "\n",
        "dummy_pred = model(batch)\n",
        "dummy_loss = criterion(dummy_pred, batch[TARGET_COLUMN])\n",
        "assert dummy_pred.shape == torch.Size([100])\n",
        "assert len(torch.unique(dummy_pred)) > 20, \"model returns suspiciously few unique outputs. Check your initialization\"\n",
        "assert dummy_loss.ndim == 0 and 0. <= dummy_loss <= 250., \"make sure you minimize MSE\""
      ]
    },
    {
      "cell_type": "markdown",
      "metadata": {
        "id": "0nSdCOhL2RqS"
      },
      "source": [
        "#### Обучение и оценка\n",
        "\n",
        "Как обычно, мы будем кормить нашего монстра случайными минибатчами данных.\n",
        "\n",
        "В процессе обучения мы хотим отслеживать не только функцию потерь, которая вычисляется в логарифмическом пространстве, но и фактическую ошибку, измеряемую в долларах."
      ]
    },
    {
      "cell_type": "code",
      "execution_count": 74,
      "metadata": {
        "id": "il-9m2Bx2RqS"
      },
      "outputs": [],
      "source": [
        "def iterate_minibatches(data, batch_size=256, shuffle=True, cycle=False, device=device, **kwargs):\n",
        "    \"\"\" iterates minibatches of data in random order \"\"\"\n",
        "    while True:\n",
        "        indices = np.arange(len(data))\n",
        "        if shuffle:\n",
        "            indices = np.random.permutation(indices)\n",
        "\n",
        "        for start in range(0, len(indices), batch_size):\n",
        "            batch = make_batch(data.iloc[indices[start : start + batch_size]], device=device, **kwargs)\n",
        "            yield batch\n",
        "\n",
        "        if not cycle: break"
      ]
    },
    {
      "cell_type": "markdown",
      "metadata": {
        "id": "1l13mkO42RqT"
      },
      "source": [
        "## Обучение модели (И ОСНОВНЫЕ ИДЕИ)\n",
        "\n",
        "Теперь мы можем подогнать нашу модель под обычные минибатчи. Забавность в том, что мы обучаемся на бесконечном потоке минибатчей, создаваемых функцией `iterate_minibatches`. Экономия памяти, ю ноу?"
      ]
    },
    {
      "cell_type": "markdown",
      "metadata": {
        "id": "RNAiy7ReaKzz"
      },
      "source": [
        "\n",
        "Главная задача - использовать некоторые трюки, которым мы научились и проанализировать, можете ли вы улучшить __validation MAE__. Попробуйте __как минимум 3 варианта__, напишите репорт и добейтесь MAE < 0.11. Больше идей (и реализаций) = больше бонусных баллов.\n",
        "\n",
        "__Только все делаем нормально:__ постройте кривые обучения в MAE/epoch, сравните результаты обучения / метрик моделей друг с другом\n",
        "\n",
        "Вы можете использовать как __pytorch__ или __tensorflow__, так и любой другой фреймворк (например, чистый __keras__). Не стесняйтесь адаптировать код семинара под свои нужды."
      ]
    },
    {
      "cell_type": "markdown",
      "metadata": {
        "id": "bXcj6PtsaKzz"
      },
      "source": [
        "## Рекомендуемые варианты\n",
        "\n",
        "#### A) Архитектура CNN\n",
        "\n",
        "Все известные трюки, связанные с полносвязными и сверточными нейронными сетями, применимы и здесь:\n",
        "* Dropout. Без комментариев.\n",
        "* Batch Norm. В этот раз используем `nn.BatchNorm*`/`L.BatchNormalization`.\n",
        "* Параллельные сверточные слои. Идея заключается в том, чтобы применить несколько `nn.Conv1d` к одним и тем же эмбеддингам и объединить выходные каналы.\n",
        "* Больше слоев, больше нейронов, как обычно...\n",
        "\n",
        "#### B) Эксперименты с пулингом\n",
        "\n",
        "Существует несколько способов пулинга:\n",
        "* Max pooling\n",
        "* Mean pooling\n",
        "* Softmax pooling:\n",
        "$$ out_{i, t} = \\sum_t {h_{i,t} \\cdot {{e ^ {h_{i, t}}} \\over \\sum_\\tau e ^ {h_{j, \\tau}} } } $$\n",
        "\n",
        "* Attentive pooling:\n",
        "$$ out_{i, t} = \\sum_t {h_{i,t} \\cdot Attn(h_t)}$$\n",
        "\n",
        "где $$ Attn(h_t) = {{e ^ {NN_{attn}(h_t)}} \\over \\sum_\\tau e ^ {NN_{attn}(h_\\tau)}}  $$,\n",
        "а $NN_{attn}$ — это полносвязный слой.\n",
        "\n",
        "Оптимальные результаты обычно достигаются путем объединения нескольких различных видов пулинга, включая несколько Attentive pooling с разными $NN_{attn}$.\n",
        "\n",
        "\n",
        "#### C) Работа со словами\n",
        "\n",
        "Не всегда разумно обучать эмбеддинги с нуля. Вот несколько приемов:\n",
        "\n",
        "* Используйте предобученные эмбеддинги из `gensim.downloader.load`. См. последнюю лекцию.\n",
        "* Начните с предобученных эмбеддингов, а затем дообучайте их с помощью градиентного спуска. Вы можете загрузить предобученные эмбеддинги, например, [отсюда](http://nlp.stanford.edu/data/glove.6B.zip)\n",
        "* Используйте одну и ту же матрицу эмбеддингов для векторизаторов заголовков и описаний.\n",
        "\n",
        "#### D) Использование рекуррентных сетей\n",
        "\n",
        "Мы уже узнали, что рекуррентные сети могут быть полезны в моделировании последовательностей. Оказывается, они могут быть полезны и для классификации, с некоторыми хитростями...\n",
        "\n",
        "* Как и в случае со сверточными слоями, выход LSTM следует свести к вектору фиксированного размера с помощью одного из пулингов.\n",
        "* Поскольку вы заранее знаете весь текст, используйте двунаправленную RNN:\n",
        "  * Запустите одну LSTM слева направо.\n",
        "  * Запустите другую параллельно справа налево.\n",
        "  * Объедините их выходные последовательности по оси единиц (dim=-1).\n",
        "\n",
        "* Возможно, хорошей идеей будет смешать сверточные и рекуррентные слои для заголовков и описаний.\n",
        "\n",
        "#### E) Серьезная оптимизация\n",
        "\n",
        "* Не обязательно тренировать модель 100 эпох. Используйте раннюю остановку (early stopping). Если вы никогда этого не делали, взгляните на [callback ранней остановки в Keras](https://keras.io/callbacks/#earlystopping) или в [pytorch(lightning)](https://pytorch-lightning.readthedocs.io/en/latest/common/early_stopping.html).\n",
        "  * В двух словах, тренируйте модель до тех пор, пока валидация не начнет ухудшаться.\n",
        "  * Сохраняйте лучший по валидации снимок модели через `model.save(file_name)`.\n",
        "\n",
        "Удачи! И да пребудет с вами сила!"
      ]
    },
    {
      "cell_type": "code",
      "execution_count": 75,
      "metadata": {
        "id": "tgmz6eIe2RqT"
      },
      "outputs": [
        {
          "name": "stderr",
          "output_type": "stream",
          "text": [
            "/home/german/nlp/2_HW/.venv/lib/python3.11/site-packages/tqdm/auto.py:21: TqdmWarning: IProgress not found. Please update jupyter and ipywidgets. See https://ipywidgets.readthedocs.io/en/stable/user_install.html\n",
            "  from .autonotebook import tqdm as notebook_tqdm\n"
          ]
        }
      ],
      "source": [
        "from tqdm.auto import tqdm\n",
        "\n",
        "BATCH_SIZE = 32\n",
        "EPOCHS = 30"
      ]
    },
    {
      "cell_type": "code",
      "execution_count": null,
      "metadata": {},
      "outputs": [],
      "source": [
        "class SalaryCNNPredictorWithALL(nn.Module):\n",
        "    def __init__(self, \n",
        "        n_tokens: int = len(tokens),\n",
        "        n_cat_features: int = len(categorical_vectorizer.vocabulary_),\n",
        "        hid_size: int = 256\n",
        "        ):\n",
        "        super().__init__()\n",
        "\n",
        "        self.emb = nn.Embedding(n_tokens, 320)\n",
        "\n",
        "        self.conv_title = nn.Conv1d(self.emb.embedding_dim, self.emb.embedding_dim*2, kernel_size=3)\n",
        "        self.conv_desc = nn.Conv1d(self.emb.embedding_dim, self.emb.embedding_dim*2, kernel_size=3)\n",
        "\n",
        "        self.act = nn.ReLU()\n",
        "\n",
        "        self.encoder_cat = nn.Linear(n_cat_features, hid_size)\n",
        "        \n",
        "        self.output = nn.Linear(1536, 1)\n",
        "        \n",
        "    def forward(self, batch):\n",
        "        title = self.emb(batch['Title']).transpose(-1, -2)\n",
        "        title = self.conv_title(title)\n",
        "        title = self.act(title)\n",
        "        title = title.max(dim=2).values\n",
        "\n",
        "        desc = self.emb(batch['FullDescription']).transpose(-1, -2)\n",
        "        desc = self.conv_desc(desc)\n",
        "        desc = self.act(desc)\n",
        "        desc = desc.max(dim=2).values\n",
        "\n",
        "\n",
        "        cat = self.encoder_cat(batch[\"Categorical\"])\n",
        "\n",
        "        concat = torch.concat([title,desc,cat], dim=1)\n",
        "\n",
        "        return self.output(concat).squeeze(1)"
      ]
    },
    {
      "cell_type": "code",
      "execution_count": 93,
      "metadata": {},
      "outputs": [],
      "source": [
        "import torch\n",
        "import torch.nn as nn\n",
        "from gensim.models import KeyedVectors\n",
        "import gensim.downloader as api\n",
        "import warnings\n",
        "\n",
        "class SalaryHybridPredictor(nn.Module):\n",
        "    def __init__(self, \n",
        "        n_tokens=len(token_to_id),\n",
        "        n_cat_features=len(categorical_vectorizer.vocabulary_),\n",
        "        hid_size: int = 128,\n",
        "        conv_hid: int = 128,\n",
        "        lstm_hid: int = 64,\n",
        "        embedding_dim: int = 300,\n",
        "        freeze_embeddings: bool = True,\n",
        "        dropout_rate: float = 0.3\n",
        "        ):\n",
        "        super().__init__()\n",
        "        \n",
        "        with warnings.catch_warnings():\n",
        "            warnings.simplefilter(\"ignore\")\n",
        "            try:\n",
        "                w2v = api.load(\"glove-wiki-gigaword-300\")\n",
        "            except:\n",
        "                print(\"Downloading embeddings...\")\n",
        "                w2v = api.load(\"glove-wiki-gigaword-300\")\n",
        "        \n",
        "        weights = torch.zeros(n_tokens, embedding_dim)\n",
        "        found_count = 0\n",
        "        \n",
        "        for word, idx in token_to_id.items():\n",
        "            if word in w2v.key_to_index:\n",
        "                weights[idx] = torch.FloatTensor(w2v[word])\n",
        "                found_count += 1\n",
        "            else:\n",
        "\n",
        "                weights[idx] = torch.normal(0, 0.1, size=(embedding_dim,))\n",
        "        \n",
        "        print(f\"Embeddings coverage: {found_count/len(token_to_id):.2%}\")\n",
        "        \n",
        "        self.emb = nn.Embedding.from_pretrained(\n",
        "            weights, \n",
        "            freeze=freeze_embeddings,\n",
        "            padding_idx=0\n",
        "        )\n",
        "        \n",
        "\n",
        "        self.emb_dropout = nn.Dropout(dropout_rate)\n",
        "        \n",
        "        self.kernel_sizes = [2, 3, 4, 5]\n",
        "        \n",
        "        self.conv_layers = nn.ModuleList()\n",
        "        for ks in self.kernel_sizes:\n",
        "            conv_block = nn.Sequential(\n",
        "                nn.Conv1d(embedding_dim, conv_hid, ks, padding='same'),\n",
        "                nn.BatchNorm1d(conv_hid),\n",
        "                nn.ReLU(),\n",
        "                nn.Dropout(dropout_rate),\n",
        "                nn.AdaptiveMaxPool1d(1)\n",
        "            )\n",
        "            self.conv_layers.append(conv_block)\n",
        "        \n",
        "        self.lstm = nn.LSTM(\n",
        "            input_size=embedding_dim,\n",
        "            hidden_size=lstm_hid,\n",
        "            num_layers=2,\n",
        "            bidirectional=True,\n",
        "            batch_first=True,\n",
        "            dropout=dropout_rate\n",
        "        )\n",
        "        self.lstm_bn = nn.BatchNorm1d(lstm_hid * 4)  # bidirectional * 2 текста\n",
        "        \n",
        "        self.title_gate = nn.Sequential(\n",
        "            nn.Linear(embedding_dim, embedding_dim),\n",
        "            nn.Sigmoid()\n",
        "        )\n",
        "        self.desc_gate = nn.Sequential(\n",
        "            nn.Linear(embedding_dim, embedding_dim),\n",
        "            nn.Sigmoid()\n",
        "        )\n",
        "        \n",
        "        self.cat_processor = nn.Sequential(\n",
        "            nn.Linear(n_cat_features, hid_size * 2),\n",
        "            nn.BatchNorm1d(hid_size * 2),\n",
        "            nn.ReLU(),\n",
        "            nn.Dropout(dropout_rate),\n",
        "            nn.Linear(hid_size * 2, hid_size),\n",
        "            nn.BatchNorm1d(hid_size),\n",
        "            nn.ReLU()\n",
        "        )\n",
        "        \n",
        "        conv_output_size = conv_hid * len(self.kernel_sizes)\n",
        "        lstm_output_size = lstm_hid * 4  # bidirectional * 2 текста\n",
        "        total_features = conv_output_size + lstm_output_size + hid_size\n",
        "        \n",
        "        self.output_net = nn.Sequential(\n",
        "            nn.Linear(total_features, hid_size * 2),\n",
        "            nn.BatchNorm1d(hid_size * 2),\n",
        "            nn.ReLU(),\n",
        "            nn.Dropout(dropout_rate),\n",
        "            nn.Linear(hid_size * 2, 1)\n",
        "        )\n",
        "        \n",
        "    def forward(self, batch):\n",
        "        title_emb = self.emb(batch['Title'])\n",
        "        desc_emb = self.emb(batch['FullDescription'])\n",
        "        \n",
        "        title_gate = self.title_gate(title_emb.mean(dim=1))\n",
        "        desc_gate = self.desc_gate(desc_emb.mean(dim=1))\n",
        "        \n",
        "        combined_emb = torch.cat([\n",
        "            title_emb * title_gate.unsqueeze(1),\n",
        "            desc_emb * desc_gate.unsqueeze(1)\n",
        "        ], dim=1)\n",
        "        \n",
        "        conv_features = []\n",
        "        conv_input = combined_emb.permute(0, 2, 1)  # [batch, emb, seq]\n",
        "        \n",
        "        for conv_layer in self.conv_layers:\n",
        "            features = conv_layer(conv_input)\n",
        "            conv_features.append(features.squeeze(-1))\n",
        "        \n",
        "        conv_output = torch.cat(conv_features, dim=1)\n",
        "        \n",
        "        title_lstm, _ = self.lstm(title_emb)\n",
        "        desc_lstm, _ = self.lstm(desc_emb)\n",
        "        \n",
        "        title_lstm = title_lstm[:, -1, :]\n",
        "        desc_lstm = desc_lstm[:, -1, :]\n",
        "        lstm_output = self.lstm_bn(torch.cat([title_lstm, desc_lstm], dim=1))\n",
        "        \n",
        "        cat_features = self.cat_processor(batch[\"Categorical\"])\n",
        "        \n",
        "        combined_features = torch.cat([conv_output, lstm_output, cat_features], dim=1)\n",
        "        \n",
        "        return self.output_net(combined_features).squeeze(1)"
      ]
    },
    {
      "cell_type": "code",
      "execution_count": 94,
      "metadata": {},
      "outputs": [],
      "source": [
        "def print_metrics(model, data, batch_size=BATCH_SIZE, name=\"\", device=torch.device('cpu'), **kw):\n",
        "    squared_error = abs_error = num_samples = 0.0\n",
        "    model.eval()\n",
        "    with torch.no_grad():\n",
        "        for batch in iterate_minibatches(data, batch_size=batch_size, shuffle=False, device=device, **kw):\n",
        "            batch_pred = model(batch)\n",
        "            batch_target = batch[TARGET_COLUMN]\n",
        "            squared_error += torch.sum(torch.square(batch_pred - batch_target))\n",
        "            abs_error += torch.sum(torch.abs(batch_pred - batch_target))\n",
        "            num_samples += len(batch_pred)\n",
        "    mse = squared_error.detach().cpu().numpy() / num_samples\n",
        "    mae = abs_error.detach().cpu().numpy() / num_samples\n",
        "    print(\"%s results:\" % (name or \"\"))\n",
        "    print(\"Mean square error: %.5f\" % mse)\n",
        "    print(\"Mean absolute error: %.5f\" % mae)\n",
        "    return mse, mae\n"
      ]
    },
    {
      "cell_type": "code",
      "execution_count": null,
      "metadata": {},
      "outputs": [
        {
          "name": "stdout",
          "output_type": "stream",
          "text": [
            "epoch: 0\n"
          ]
        },
        {
          "name": "stderr",
          "output_type": "stream",
          "text": [
            "  0%|          | 0/6119 [00:00<?, ?it/s]"
          ]
        },
        {
          "name": "stderr",
          "output_type": "stream",
          "text": [
            "6120it [03:24, 29.99it/s]                          \n"
          ]
        },
        {
          "name": "stdout",
          "output_type": "stream",
          "text": [
            " results:\n",
            "Mean square error: 0.07695\n",
            "Mean absolute error: 0.21058\n",
            "epoch: 1\n"
          ]
        },
        {
          "name": "stderr",
          "output_type": "stream",
          "text": [
            "6120it [03:24, 29.94it/s]                          \n"
          ]
        },
        {
          "name": "stdout",
          "output_type": "stream",
          "text": [
            " results:\n",
            "Mean square error: 0.07397\n",
            "Mean absolute error: 0.20909\n",
            "epoch: 2\n"
          ]
        },
        {
          "name": "stderr",
          "output_type": "stream",
          "text": [
            "6120it [03:25, 29.84it/s]                          \n"
          ]
        },
        {
          "name": "stdout",
          "output_type": "stream",
          "text": [
            " results:\n",
            "Mean square error: 0.06025\n",
            "Mean absolute error: 0.18292\n",
            "epoch: 3\n"
          ]
        },
        {
          "name": "stderr",
          "output_type": "stream",
          "text": [
            "6120it [03:25, 29.84it/s]                          \n"
          ]
        }
      ],
      "source": [
        "model = SalaryCNNPredictorWithALL().to(device)\n",
        "criterion = nn.MSELoss(reduction='sum')\n",
        "optimizer = torch.optim.Adam(model.parameters(), lr=1e-4)\n",
        "\n",
        "for epoch in range(EPOCHS):\n",
        "    print(f\"epoch: {epoch}\")\n",
        "    model.train()\n",
        "    for i, batch in tqdm(enumerate(\n",
        "            iterate_minibatches(data_train, batch_size=BATCH_SIZE, device=device)),\n",
        "            total=len(data_train) // BATCH_SIZE\n",
        "        ):\n",
        "        pred = model(batch)\n",
        "        loss = criterion(pred, batch[TARGET_COLUMN])\n",
        "        loss.backward()\n",
        "        optimizer.step()\n",
        "        optimizer.zero_grad()\n",
        "\n",
        "    print_metrics(model, data_val, device=device)\n",
        "\n"
      ]
    },
    {
      "cell_type": "markdown",
      "metadata": {
        "id": "7Lj0p2_i2RqT"
      },
      "source": [
        "### Бонусная часть: объяснение предсказаний модели\n",
        "\n",
        "Обычно полезно понять, как работает модель, прежде чем позволить ей принимать решения в проде.\n",
        "\n",
        "Для линейных моделей это просто: достаточно посмотреть, какие слова приобрели положительные или отрицательные веса. Однако гораздо сложнее с нейронными сетями, которые учатся сложным нелинейным зависимостям.\n",
        "\n",
        "Однако есть несколько способов заглянуть внутрь «черного ящика»:\n",
        "* Seeing how model responds to input perturbations\n",
        "* Finding inputs that maximize/minimize activation of some chosen neurons (_read more [on distill.pub](https://distill.pub/2018/building-blocks/)_)\n",
        "* Building local linear approximations to your neural network: [article](https://arxiv.org/abs/1602.04938), [eli5 library](https://github.com/TeamHG-Memex/eli5/tree/master/eli5/formatters)\n",
        "\n",
        "Сегодня мы попробуем первый метод, просто потому что он самый простой."
      ]
    },
    {
      "cell_type": "code",
      "execution_count": null,
      "metadata": {
        "id": "DVeHe-V-2RqU"
      },
      "outputs": [],
      "source": [
        "def explain(model, sample, col_name='Title'):\n",
        "    \"\"\" Computes the effect each word had on model predictions \"\"\"\n",
        "    sample = dict(sample)\n",
        "    sample_col_tokens = [tokens[token_to_id.get(tok, 0)] for tok in sample[col_name].split()]\n",
        "    data_drop_one_token = pd.DataFrame([sample] * (len(sample_col_tokens) + 1))\n",
        "\n",
        "    for drop_i in range(len(sample_col_tokens)):\n",
        "        data_drop_one_token.loc[drop_i, col_name] = ' '.join(UNK if i == drop_i else tok\n",
        "                                                   for i, tok in enumerate(sample_col_tokens))\n",
        "\n",
        "    *predictions_drop_one_token, baseline_pred = model(make_batch(data_drop_one_token, device=device)).detach().cpu()\n",
        "    diffs = baseline_pred - torch.Tensor(predictions_drop_one_token)\n",
        "    return list(zip(sample_col_tokens, diffs))"
      ]
    },
    {
      "cell_type": "code",
      "execution_count": null,
      "metadata": {
        "id": "hTNgC4g12RqU"
      },
      "outputs": [],
      "source": [
        "from IPython.display import HTML, display_html\n",
        "\n",
        "\n",
        "def draw_html(tokens_and_weights, cmap=plt.get_cmap(\"bwr\"), display=True,\n",
        "              token_template=\"\"\"<span style=\"background-color: {color_hex}\">{token}</span>\"\"\",\n",
        "              font_style=\"font-size:14px;\"\n",
        "             ):\n",
        "\n",
        "    def get_color_hex(weight):\n",
        "        rgba = cmap(1. / (1 + np.exp(float(weight))), bytes=True)\n",
        "        return '#%02X%02X%02X' % rgba[:3]\n",
        "\n",
        "    tokens_html = [\n",
        "        token_template.format(token=token, color_hex=get_color_hex(weight))\n",
        "        for token, weight in tokens_and_weights\n",
        "    ]\n",
        "\n",
        "\n",
        "    raw_html = \"\"\"<p style=\"{}\">{}</p>\"\"\".format(font_style, ' '.join(tokens_html))\n",
        "    if display:\n",
        "        display_html(HTML(raw_html))\n",
        "\n",
        "    return raw_html\n"
      ]
    },
    {
      "cell_type": "code",
      "execution_count": null,
      "metadata": {
        "id": "MHy32Gr12RqU"
      },
      "outputs": [
        {
          "data": {
            "text/html": [
              "<p style=\"font-size:20px;\"><span style=\"background-color: #D2D2FF\">sales</span> <span style=\"background-color: #FFFCFC\">specialist</span> <span style=\"background-color: #FFA3A3\">iv</span> <span style=\"background-color: #E6E6FF\">access</span> <span style=\"background-color: #FFD8D8\">and</span> <span style=\"background-color: #FFFAFA\">infusion</span></p>"
            ]
          },
          "metadata": {},
          "output_type": "display_data"
        },
        {
          "data": {
            "text/html": [
              "<p style=\"font-size:14px;\"><span style=\"background-color: #FCFCFF\">sales</span> <span style=\"background-color: #FFF8F8\">representative</span> <span style=\"background-color: #C6C6FF\">medical</span> <span style=\"background-color: #FFECEC\">sales</span> <span style=\"background-color: #F8F8FF\">iv</span> <span style=\"background-color: #DADAFF\">access</span> <span style=\"background-color: #E8E8FF\">and</span> <span style=\"background-color: #FFDEDE\">infusion</span> <span style=\"background-color: #F6F6FF\">an</span> <span style=\"background-color: #F3F3FF\">opportunity</span> <span style=\"background-color: #ECECFF\">to</span> <span style=\"background-color: #F0F0FF\">work</span> <span style=\"background-color: #FAFAFF\">for</span> <span style=\"background-color: #F2F2FF\">the</span> <span style=\"background-color: #F8F8FF\">industry</span> <span style=\"background-color: #F8F8FF\">leading</span> <span style=\"background-color: #F2F2FF\">manufacturer</span> <span style=\"background-color: #FFECEC\">of</span> <span style=\"background-color: #FEFEFF\">iv</span> <span style=\"background-color: #FFFEFE\">access</span> <span style=\"background-color: #FEFEFF\">and</span> <span style=\"background-color: #F3F3FF\">infusion</span> <span style=\"background-color: #FCFCFF\">solutions</span> <span style=\"background-color: #FFFEFE\">.</span> <span style=\"background-color: #F6F6FF\">formally</span> <span style=\"background-color: #FCFCFF\">recognised</span> <span style=\"background-color: #FCFCFF\">as</span> <span style=\"background-color: #FFFEFE\">the</span> <span style=\"background-color: #FEFEFF\">number</span> <span style=\"background-color: #FEFEFF\">****</span> <span style=\"background-color: #FCFCFF\">company</span> <span style=\"background-color: #FFFEFE\">in</span> <span style=\"background-color: #FEFEFF\">this</span> <span style=\"background-color: #FEFEFF\">market</span> <span style=\"background-color: #FCFCFF\">space</span> <span style=\"background-color: #FEFEFF\">,</span> <span style=\"background-color: #FFFAFA\">our</span> <span style=\"background-color: #FEFEFF\">client</span> <span style=\"background-color: #F8F8FF\">are</span> <span style=\"background-color: #FFFEFE\">an</span> <span style=\"background-color: #EAEAFF\">ethical</span> <span style=\"background-color: #EEEEFF\">and</span> <span style=\"background-color: #ECECFF\">dynamic</span> <span style=\"background-color: #FFBCBC\">organisation</span> <span style=\"background-color: #EEEEFF\">absolutely</span> <span style=\"background-color: #FFD8D8\">committed</span> <span style=\"background-color: #FFFCFC\">to</span> <span style=\"background-color: #FFFEFE\">the</span> <span style=\"background-color: #FEFEFF\">advancement</span> <span style=\"background-color: #FFFCFC\">of</span> <span style=\"background-color: #FFFEFE\">innovative</span> <span style=\"background-color: #FEFEFF\">technologies</span> <span style=\"background-color: #FCFCFF\">.</span> <span style=\"background-color: #FFFEFE\">job</span> <span style=\"background-color: #FAFAFF\">title</span> <span style=\"background-color: #FFFAFA\">:</span> <span style=\"background-color: #FFDEDE\">sales</span> <span style=\"background-color: #FFFCFC\">specialist</span> <span style=\"background-color: #FFFEFE\">iv</span> <span style=\"background-color: #FFFEFE\">access</span> <span style=\"background-color: #FEFEFF\">and</span> <span style=\"background-color: #FFFEFE\">infusion</span> <span style=\"background-color: #FCFCFF\">selling</span> <span style=\"background-color: #FCFCFF\">:</span> <span style=\"background-color: #FCFCFF\">medication</span> <span style=\"background-color: #FFFEFE\">delivery</span> <span style=\"background-color: #ECECFF\">solutions</span> <span style=\"background-color: #FFFCFC\">selling</span> <span style=\"background-color: #FFFCFC\">to</span> <span style=\"background-color: #FFF8F8\">:</span> <span style=\"background-color: #FFFAFA\">iv</span> <span style=\"background-color: #F0F0FF\">teams</span> <span style=\"background-color: #FFFEFE\">,</span> <span style=\"background-color: #FFFEFE\">infection</span> <span style=\"background-color: #FFFAFA\">control</span> <span style=\"background-color: #FFFEFE\">,</span> <span style=\"background-color: #FEFEFF\">lead</span> <span style=\"background-color: #FFFEFE\">intensive</span> <span style=\"background-color: #FFFEFE\">care</span> <span style=\"background-color: #FEFEFF\">nurse</span> <span style=\"background-color: #FFFEFE\">specialists</span> <span style=\"background-color: #FFEAEA\">,</span> <span style=\"background-color: #FEFEFF\">ward</span> <span style=\"background-color: #FEFEFF\">managers</span> <span style=\"background-color: #FFFEFE\">territory</span> <span style=\"background-color: #FFFEFE\">:</span> <span style=\"background-color: #FFFEFE\">east</span> <span style=\"background-color: #FFFEFE\">midlands</span> <span style=\"background-color: #FEFEFF\">location</span> <span style=\"background-color: #FFFCFC\">:</span> <span style=\"background-color: #FFFEFE\">east</span> <span style=\"background-color: #FFFEFE\">midlands</span> <span style=\"background-color: #FFFEFE\">package</span> <span style=\"background-color: #FFFCFC\">:</span> <span style=\"background-color: #FFFEFE\">basic</span> <span style=\"background-color: #FFFEFE\">:</span> <span style=\"background-color: #FFFEFE\">****</span> <span style=\"background-color: #FFFEFE\">k</span> <span style=\"background-color: #FFFEFE\">****</span> <span style=\"background-color: #FFFEFE\">k</span> <span style=\"background-color: #FFFCFC\">,</span> <span style=\"background-color: #FCFCFF\">uncapped</span> <span style=\"background-color: #FEFEFF\">bonus</span> <span style=\"background-color: #FFFCFC\">in</span> <span style=\"background-color: #F6F6FF\">addition</span> <span style=\"background-color: #FEFEFF\">,</span> <span style=\"background-color: #FFFCFC\">full</span> <span style=\"background-color: #FFFAFA\">corporate</span> <span style=\"background-color: #FCFCFF\">benefits</span> <span style=\"background-color: #FCFCFF\">company</span> <span style=\"background-color: #FFD3D3\">information</span> <span style=\"background-color: #FEFEFF\">hugely</span> <span style=\"background-color: #FFFEFE\">ethical</span> <span style=\"background-color: #FFF0F0\">and</span> <span style=\"background-color: #FFE4E4\">professional</span> <span style=\"background-color: #FFFAFA\">global</span> <span style=\"background-color: #FFEEEE\">organisation</span> <span style=\"background-color: #FFFAFA\">extremely</span> <span style=\"background-color: #FFFEFE\">well</span> <span style=\"background-color: #FFF4F4\">established</span> <span style=\"background-color: #FFF6F6\">in</span> <span style=\"background-color: #FFFAFA\">the</span> <span style=\"background-color: #FEFEFF\">uk</span> <span style=\"background-color: #FEFEFF\">the</span> <span style=\"background-color: #FFF8F8\">market</span> <span style=\"background-color: #FFFEFE\">leader</span> <span style=\"background-color: #FFFEFE\">across</span> <span style=\"background-color: #FEFEFF\">all</span> <span style=\"background-color: #FEFEFF\">of</span> <span style=\"background-color: #FEFEFF\">their</span> <span style=\"background-color: #FEFEFF\">core</span> <span style=\"background-color: #FEFEFF\">business</span> <span style=\"background-color: #FFFEFE\">areas</span> <span style=\"background-color: #FFFEFE\">focus</span> <span style=\"background-color: #FFFEFE\">on</span> <span style=\"background-color: #FEFEFF\">providing</span> <span style=\"background-color: #FFFEFE\">cutting</span> <span style=\"background-color: #FFFEFE\">edge</span> <span style=\"background-color: #FFFCFC\">solutions</span> <span style=\"background-color: #FFFEFE\">along</span> <span style=\"background-color: #FFFEFE\">with</span> <span style=\"background-color: #FFFCFC\">outstanding</span> <span style=\"background-color: #FFFEFE\">service</span> <span style=\"background-color: #FFFEFE\">and</span> <span style=\"background-color: #FFFEFE\">support</span> <span style=\"background-color: #FEFEFF\">a</span> <span style=\"background-color: #FFFEFE\">business</span> <span style=\"background-color: #FFFEFE\">that</span> <span style=\"background-color: #FFFEFE\">retain</span> <span style=\"background-color: #FFFEFE\">talented</span> <span style=\"background-color: #FCFCFF\">personnel</span> <span style=\"background-color: #FFFEFE\">by</span> <span style=\"background-color: #FFFEFE\">offering</span> <span style=\"background-color: #FFFEFE\">a</span> <span style=\"background-color: #FFFEFE\">strong</span> <span style=\"background-color: #FFFEFE\">platform</span> <span style=\"background-color: #FFF4F4\">for</span> <span style=\"background-color: #FEFEFF\">career</span> <span style=\"background-color: #F2F2FF\">development</span> <span style=\"background-color: #FFEAEA\">sales</span> <span style=\"background-color: #FFF6F6\">specialist</span> <span style=\"background-color: #FFFEFE\">iv</span> <span style=\"background-color: #FEFEFF\">access</span> <span style=\"background-color: #FFFEFE\">and</span> <span style=\"background-color: #FFFEFE\">infusion</span> <span style=\"background-color: #FEFEFF\">you</span> <span style=\"background-color: #FEFEFF\">must</span> <span style=\"background-color: #FFFEFE\">have</span> <span style=\"background-color: #FEFEFF\">/</span> <span style=\"background-color: #FCFCFF\">be</span> <span style=\"background-color: #FEFEFF\">the</span> <span style=\"background-color: #FFFEFE\">following</span> <span style=\"background-color: #FFFEFE\">at</span> <span style=\"background-color: #FFFEFE\">least</span> <span style=\"background-color: #FFFEFE\">2</span> <span style=\"background-color: #FFFEFE\">years</span> <span style=\"background-color: #FEFEFF\">medical</span> <span style=\"background-color: #FFFEFE\">device</span> <span style=\"background-color: #FFFEFE\">sales</span> <span style=\"background-color: #FFFEFE\">experience</span> <span style=\"background-color: #FEFEFF\">.</span> <span style=\"background-color: #FFFEFE\">candidates</span> <span style=\"background-color: #FFFAFA\">who</span> <span style=\"background-color: #FFF8F8\">have</span> <span style=\"background-color: #FAFAFF\">sold</span> <span style=\"background-color: #FFFCFC\">disposables</span> <span style=\"background-color: #EAEAFF\">/</span> <span style=\"background-color: #FFF4F4\">consumables</span> <span style=\"background-color: #F2F2FF\">or</span> <span style=\"background-color: #E2E2FF\">similar</span> <span style=\"background-color: #FFFAFA\">into</span> <span style=\"background-color: #FAFAFF\">hospitals</span> <span style=\"background-color: #FFF4F4\">would</span> <span style=\"background-color: #FFFEFE\">be</span> <span style=\"background-color: #FFFEFE\">of</span> <span style=\"background-color: #E8E8FF\">particular</span> <span style=\"background-color: #FFCECE\">interest</span> <span style=\"background-color: #FFCECE\">.</span> <span style=\"background-color: #DEDEFF\">candidates</span> <span style=\"background-color: #FFC6C6\">must</span> <span style=\"background-color: #E0E0FF\">have</span> <span style=\"background-color: #C2C2FF\">sold</span> <span style=\"background-color: #8A8AFF\">into</span> <span style=\"background-color: #A0A0FF\">hospitals</span> <span style=\"background-color: #9A9AFF\">demonstrable</span> <span style=\"background-color: #ECECFF\">performance</span> <span style=\"background-color: #E2E2FF\">and</span> <span style=\"background-color: #9393FF\">achievements</span> <span style=\"background-color: #EEEEFF\">so</span> <span style=\"background-color: #8C8CFF\">far</span> <span style=\"background-color: #D6D6FF\">personable</span> <span style=\"background-color: #FAFAFF\">,</span> <span style=\"background-color: #FFDADA\">adaptable</span> <span style=\"background-color: #FFD8D8\">and</span> <span style=\"background-color: #FFCACA\">willing</span> <span style=\"background-color: #FFD2D2\">to</span> <span style=\"background-color: #FAFAFF\">learn</span> <span style=\"background-color: #F2F2FF\">keen</span> <span style=\"background-color: #ECECFF\">and</span> <span style=\"background-color: #FFF2F2\">eager</span> <span style=\"background-color: #CCCCFF\">to</span> <span style=\"background-color: #FFECEC\">be</span> <span style=\"background-color: #FFF8F8\">a</span> <span style=\"background-color: #FFECEC\">success</span> <span style=\"background-color: #FFF0F0\">candidates</span> <span style=\"background-color: #FFF4F4\">must</span> <span style=\"background-color: #FFFCFC\">have</span> <span style=\"background-color: #FFFEFE\">a</span> <span style=\"background-color: #FFFAFA\">degree</span> <span style=\"background-color: #FEFEFF\">or</span> <span style=\"background-color: #FEFEFF\">at</span> <span style=\"background-color: #FFFCFC\">least</span> <span style=\"background-color: #FFFEFE\">be</span> <span style=\"background-color: #FEFEFF\">able</span> <span style=\"background-color: #FFFEFE\">to</span> <span style=\"background-color: #FEFEFF\">show</span> <span style=\"background-color: #FFF8F8\">a</span> <span style=\"background-color: #FFFEFE\">strong</span> <span style=\"background-color: #FCFCFF\">ability</span> <span style=\"background-color: #FCFCFF\">to</span> <span style=\"background-color: #FFF6F6\">learn</span> <span style=\"background-color: #FAFAFF\">role</span> <span style=\"background-color: #F0F0FF\">information</span> <span style=\"background-color: #EEEEFF\">managing</span> <span style=\"background-color: #FFFCFC\">the</span> <span style=\"background-color: #FFFAFA\">east</span> <span style=\"background-color: #FCFCFF\">midlands</span> <span style=\"background-color: #FFFEFE\">region</span> <span style=\"background-color: #FFFEFE\">selling</span> <span style=\"background-color: #FFF8F8\">across</span> <span style=\"background-color: #FFFCFC\">the</span> <span style=\"background-color: #FEFEFF\">company</span> <span style=\"background-color: #FEFEFF\">'</span> <span style=\"background-color: #FEFEFF\">s</span> <span style=\"background-color: #FEFEFF\">range</span> <span style=\"background-color: #FEFEFF\">of</span> <span style=\"background-color: #FEFEFF\">iv</span> <span style=\"background-color: #FFFEFE\">and</span> <span style=\"background-color: #FFFCFC\">infusion</span> <span style=\"background-color: #FCFCFF\">solutions</span> <span style=\"background-color: #FCFCFF\">portfolio</span> <span style=\"background-color: #FFFCFC\">selling</span> <span style=\"background-color: #FFFAFA\">into</span> <span style=\"background-color: #FAFAFF\">lead</span> <span style=\"background-color: #FEFEFF\">intensive</span> <span style=\"background-color: #FFFEFE\">care</span> <span style=\"background-color: #FEFEFF\">nurse</span> <span style=\"background-color: #FFFEFE\">specialists</span> <span style=\"background-color: #FFE8E8\">,</span> <span style=\"background-color: #FEFEFF\">ward</span> <span style=\"background-color: #FFFEFE\">managers</span> <span style=\"background-color: #FFFCFC\">,</span> <span style=\"background-color: #FFFAFA\">iv</span> <span style=\"background-color: #FFFCFC\">teams</span> <span style=\"background-color: #FFFEFE\">,</span> <span style=\"background-color: #FEFEFF\">infection</span> <span style=\"background-color: #FFFEFE\">control</span> <span style=\"background-color: #FFFCFC\">teams</span> <span style=\"background-color: #FEFEFF\">,</span> <span style=\"background-color: #FFF8F8\">procurement</span> <span style=\"background-color: #FFEAEA\">sales</span> <span style=\"background-color: #FEFEFF\">specialist</span> <span style=\"background-color: #FFFEFE\">iv</span> <span style=\"background-color: #FEFEFF\">access</span> <span style=\"background-color: #FFFEFE\">and</span> <span style=\"background-color: #FFFCFC\">infusion</span> <span style=\"background-color: #FFFEFE\">candidates</span> <span style=\"background-color: #FAFAFF\">must</span> <span style=\"background-color: #FEFEFF\">be</span> <span style=\"background-color: #FFFEFE\">eligible</span> <span style=\"background-color: #FFFEFE\">to</span> <span style=\"background-color: #FEFEFF\">work</span> <span style=\"background-color: #FFFEFE\">and</span> <span style=\"background-color: #FFFEFE\">live</span> <span style=\"background-color: #FFFCFC\">in</span> <span style=\"background-color: #FFFCFC\">the</span> <span style=\"background-color: #FFFCFC\">uk</span> <span style=\"background-color: #F3F3FF\">.</span> <span style=\"background-color: #EEEEFF\">please</span> <span style=\"background-color: #FFF0F0\">contact</span> <span style=\"background-color: #FFD3D3\">allan</span> <span style=\"background-color: #FFD6D6\">waller</span> <span style=\"background-color: #FFD6D6\">on</span> <span style=\"background-color: #FFF0F0\">****</span> <span style=\"background-color: #FFFCFC\">****</span> <span style=\"background-color: #FFF0F0\">****</span> <span style=\"background-color: #FFEEEE\">or</span> <span style=\"background-color: #FFF6F6\">please</span> <span style=\"background-color: #D2D2FF\">hit</span> <span style=\"background-color: #FFF4F4\">the</span> <span style=\"background-color: #EAEAFF\">apply</span> <span style=\"background-color: #D8D8FF\">button</span> <span style=\"background-color: #FFF4F4\">.</span> <span style=\"background-color: #F2F2FF\">this</span> <span style=\"background-color: #FFF2F2\">job</span> <span style=\"background-color: #E8E8FF\">was</span> <span style=\"background-color: #E6E6FF\">originally</span> <span style=\"background-color: #ECECFF\">posted</span> <span style=\"background-color: #FEFEFF\">as</span> <span style=\"background-color: #F3F3FF\">www</span> <span style=\"background-color: #FCFCFF\">.</span> <span style=\"background-color: #FFFEFE\">salestarget</span> <span style=\"background-color: #FFFEFE\">.</span> <span style=\"background-color: #FCFCFF\">co</span> <span style=\"background-color: #FEFEFF\">.</span> <span style=\"background-color: #FEFEFF\">uk</span> <span style=\"background-color: #FFFCFC\">/</span> <span style=\"background-color: #FFFEFE\">jobseeking</span> <span style=\"background-color: #FFFEFE\">/</span> <span style=\"background-color: #FFFEFE\">UNK</span> <span style=\"background-color: #FEFEFF\">****</span></p>"
            ]
          },
          "metadata": {},
          "output_type": "display_data"
        }
      ],
      "source": [
        "i = 36605\n",
        "tokens_and_weights = explain(model, data.loc[i], \"Title\")\n",
        "draw_html([(tok, weight * 5) for tok, weight in tokens_and_weights], font_style='font-size:20px;');\n",
        "\n",
        "tokens_and_weights = explain(model, data.loc[i], \"FullDescription\")\n",
        "draw_html([(tok, weight * 10) for tok, weight in tokens_and_weights]);"
      ]
    },
    {
      "cell_type": "code",
      "execution_count": null,
      "metadata": {
        "id": "bhnrf_uG2RqU"
      },
      "outputs": [
        {
          "name": "stdout",
          "output_type": "stream",
          "text": [
            "Index: 131617\n",
            "Salary (gbp): tensor([95797.3984])\n"
          ]
        },
        {
          "data": {
            "text/html": [
              "<p style=\"font-size:20px;\"><span style=\"background-color: #FAFAFF\">project</span> <span style=\"background-color: #4949FF\">director</span> <span style=\"background-color: #FFCCCC\">energy</span> <span style=\"background-color: #ECECFF\">from</span> <span style=\"background-color: #E0E0FF\">waste</span></p>"
            ]
          },
          "metadata": {},
          "output_type": "display_data"
        },
        {
          "data": {
            "text/html": [
              "<p style=\"font-size:14px;\"><span style=\"background-color: #FFE6E6\">we</span> <span style=\"background-color: #FFF2F2\">are</span> <span style=\"background-color: #FFE8E8\">currently</span> <span style=\"background-color: #FFFEFE\">recruiting</span> <span style=\"background-color: #E3E3FF\">a</span> <span style=\"background-color: #FFEEEE\">project</span> <span style=\"background-color: #BABAFF\">director</span> <span style=\"background-color: #D8D8FF\">for</span> <span style=\"background-color: #FFC2C2\">the</span> <span style=\"background-color: #B0B0FF\">leading</span> <span style=\"background-color: #7979FF\">epc</span> <span style=\"background-color: #8080FF\">/</span> <span style=\"background-color: #8E8EFF\">principal</span> <span style=\"background-color: #B0B0FF\">contractor</span> <span style=\"background-color: #FFC6C6\">in</span> <span style=\"background-color: #D6D6FF\">the</span> <span style=\"background-color: #FFF2F2\">energy</span> <span style=\"background-color: #E3E3FF\">from</span> <span style=\"background-color: #DADAFF\">waste</span> <span style=\"background-color: #FFF2F2\">market</span> <span style=\"background-color: #F8F8FF\">.</span> <span style=\"background-color: #FFFCFC\">the</span> <span style=\"background-color: #FFFCFC\">business</span> <span style=\"background-color: #FEFEFF\">operates</span> <span style=\"background-color: #FEFEFF\">across</span> <span style=\"background-color: #FEFEFF\">the</span> <span style=\"background-color: #FCFCFF\">world</span> <span style=\"background-color: #FEFEFF\">and</span> <span style=\"background-color: #FEFEFF\">is</span> <span style=\"background-color: #FFFEFE\">currently</span> <span style=\"background-color: #FEFEFF\">building</span> <span style=\"background-color: #FFFEFE\">a</span> <span style=\"background-color: #FEFEFF\">number</span> <span style=\"background-color: #FEFEFF\">of</span> <span style=\"background-color: #FFFEFE\">facilities</span> <span style=\"background-color: #FFFEFE\">at</span> <span style=\"background-color: #FAFAFF\">the</span> <span style=\"background-color: #FFFEFE\">moment</span> <span style=\"background-color: #FFFCFC\">for</span> <span style=\"background-color: #FFFEFE\">clients</span> <span style=\"background-color: #EEEEFF\">.</span> <span style=\"background-color: #FFFAFA\">whilst</span> <span style=\"background-color: #FAFAFF\">the</span> <span style=\"background-color: #FEFEFF\">majority</span> <span style=\"background-color: #FFFAFA\">of</span> <span style=\"background-color: #FFFEFE\">their</span> <span style=\"background-color: #FFFEFE\">work</span> <span style=\"background-color: #FFFEFE\">is</span> <span style=\"background-color: #FFFCFC\">won</span> <span style=\"background-color: #FFFCFC\">on</span> <span style=\"background-color: #FFFEFE\">competitive</span> <span style=\"background-color: #FAFAFF\">tender</span> <span style=\"background-color: #FFFCFC\">they</span> <span style=\"background-color: #FFFEFE\">are</span> <span style=\"background-color: #FFFEFE\">the</span> <span style=\"background-color: #FFFCFC\">preferred</span> <span style=\"background-color: #FCFCFF\">contractor</span> <span style=\"background-color: #FFFCFC\">to</span> <span style=\"background-color: #FFFEFE\">the</span> <span style=\"background-color: #FCFCFF\">vast</span> <span style=\"background-color: #F6F6FF\">number</span> <span style=\"background-color: #F2F2FF\">of</span> <span style=\"background-color: #FFF2F2\">waste</span> <span style=\"background-color: #FFE6E6\">companies</span> <span style=\"background-color: #C3C3FF\">.</span> <span style=\"background-color: #D6D6FF\">because</span> <span style=\"background-color: #D0D0FF\">of</span> <span style=\"background-color: #FFAEAE\">an</span> <span style=\"background-color: #FF9E9E\">increase</span> <span style=\"background-color: #FFCACA\">in</span> <span style=\"background-color: #E0E0FF\">projects</span> <span style=\"background-color: #FCFCFF\">in</span> <span style=\"background-color: #F3F3FF\">europe</span> <span style=\"background-color: #FFFCFC\">they</span> <span style=\"background-color: #FEFEFF\">are</span> <span style=\"background-color: #FCFCFF\">now</span> <span style=\"background-color: #FFFEFE\">looking</span> <span style=\"background-color: #FCFCFF\">to</span> <span style=\"background-color: #FEFEFF\">appoint</span> <span style=\"background-color: #FFFEFE\">an</span> <span style=\"background-color: #FCFCFF\">experienced</span> <span style=\"background-color: #FAFAFF\">and</span> <span style=\"background-color: #FEFEFF\">knowledgeable</span> <span style=\"background-color: #FFFEFE\">project</span> <span style=\"background-color: #FFFAFA\">director</span> <span style=\"background-color: #FFF8F8\">to</span> <span style=\"background-color: #FCFCFF\">oversee</span> <span style=\"background-color: #FFFEFE\">the</span> <span style=\"background-color: #FFFAFA\">successful</span> <span style=\"background-color: #FFFEFE\">delivery</span> <span style=\"background-color: #FCFCFF\">of</span> <span style=\"background-color: #FFFEFE\">efw</span> <span style=\"background-color: #FEFEFF\">plants</span> <span style=\"background-color: #FFFEFE\">.</span> <span style=\"background-color: #FFFCFC\">they</span> <span style=\"background-color: #FFFEFE\">are</span> <span style=\"background-color: #FFFEFE\">looking</span> <span style=\"background-color: #FFFEFE\">to</span> <span style=\"background-color: #FFFEFE\">speak</span> <span style=\"background-color: #FFFEFE\">with</span> <span style=\"background-color: #FEFEFF\">experienced</span> <span style=\"background-color: #F3F3FF\">energy</span> <span style=\"background-color: #F3F3FF\">from</span> <span style=\"background-color: #FFFCFC\">waste</span> <span style=\"background-color: #F2F2FF\">professionals</span> <span style=\"background-color: #FEFEFF\">who</span> <span style=\"background-color: #FFFCFC\">are</span> <span style=\"background-color: #FFFEFE\">degree</span> <span style=\"background-color: #FCFCFF\">educated</span> <span style=\"background-color: #FFFEFE\">in</span> <span style=\"background-color: #FEFEFF\">engineering</span> <span style=\"background-color: #FEFEFF\">and</span> <span style=\"background-color: #FFFCFC\">have</span> <span style=\"background-color: #FEFEFF\">intimate</span> <span style=\"background-color: #FFFEFE\">project</span> <span style=\"background-color: #FEFEFF\">experience</span> <span style=\"background-color: #FFFEFE\">on</span> <span style=\"background-color: #FEFEFF\">efw</span> <span style=\"background-color: #FCFCFF\">plants</span> <span style=\"background-color: #FFFCFC\">.</span> <span style=\"background-color: #FFFEFE\">reporting</span> <span style=\"background-color: #FFFEFE\">into</span> <span style=\"background-color: #FEFEFF\">the</span> <span style=\"background-color: #FFFEFE\">group</span> <span style=\"background-color: #FFFEFE\">construction</span> <span style=\"background-color: #FFFCFC\">director</span> <span style=\"background-color: #FEFEFF\">you</span> <span style=\"background-color: #FEFEFF\">will</span> <span style=\"background-color: #FEFEFF\">be</span> <span style=\"background-color: #FFFEFE\">based</span> <span style=\"background-color: #FEFEFF\">both</span> <span style=\"background-color: #FFFEFE\">on</span> <span style=\"background-color: #FEFEFF\">site</span> <span style=\"background-color: #FFFEFE\">and</span> <span style=\"background-color: #FFFEFE\">hq</span> <span style=\"background-color: #FEFEFF\">but</span> <span style=\"background-color: #FEFEFF\">oversee</span> <span style=\"background-color: #FFFEFE\">the</span> <span style=\"background-color: #FFFEFE\">projects</span> <span style=\"background-color: #FFFCFC\">being</span> <span style=\"background-color: #FFFEFE\">built</span> <span style=\"background-color: #FFFEFE\">in</span> <span style=\"background-color: #FEFEFF\">the</span> <span style=\"background-color: #FFFCFC\">uk</span> <span style=\"background-color: #FEFEFF\">.</span> <span style=\"background-color: #FFFCFC\">you</span> <span style=\"background-color: #FEFEFF\">will</span> <span style=\"background-color: #FFFCFC\">recruit</span> <span style=\"background-color: #FFFEFE\">a</span> <span style=\"background-color: #FFFEFE\">train</span> <span style=\"background-color: #FFFCFC\">a</span> <span style=\"background-color: #FEFEFF\">project</span> <span style=\"background-color: #FFFCFC\">team</span> <span style=\"background-color: #FEFEFF\">and</span> <span style=\"background-color: #FEFEFF\">ideally</span> <span style=\"background-color: #FEFEFF\">be</span> <span style=\"background-color: #FFFCFC\">able</span> <span style=\"background-color: #FFFCFC\">to</span> <span style=\"background-color: #FFFEFE\">bring</span> <span style=\"background-color: #FCFCFF\">engineers</span> <span style=\"background-color: #FFFEFE\">from</span> <span style=\"background-color: #FEFEFF\">previous</span> <span style=\"background-color: #FEFEFF\">projects</span> <span style=\"background-color: #FEFEFF\">together</span> <span style=\"background-color: #FEFEFF\">.</span> <span style=\"background-color: #FFFEFE\">with</span> <span style=\"background-color: #FFFCFC\">the</span> <span style=\"background-color: #FEFEFF\">worldwide</span> <span style=\"background-color: #FCFCFF\">market</span> <span style=\"background-color: #FFFAFA\">for</span> <span style=\"background-color: #FEFEFF\">efw</span> <span style=\"background-color: #FFFCFC\">picking</span> <span style=\"background-color: #FFFAFA\">up</span> <span style=\"background-color: #C6C6FF\">due</span> <span style=\"background-color: #FFFCFC\">to</span> <span style=\"background-color: #FFF6F6\">an</span> <span style=\"background-color: #FFF8F8\">increase</span> <span style=\"background-color: #A8A8FF\">in</span> <span style=\"background-color: #FFF8F8\">renewable</span> <span style=\"background-color: #DCDCFF\">energy</span> <span style=\"background-color: #FEFEFF\">projects</span> <span style=\"background-color: #FFFCFC\">this</span> <span style=\"background-color: #D2D2FF\">is</span> <span style=\"background-color: #FFF8F8\">an</span> <span style=\"background-color: #FFFEFE\">exciting</span> <span style=\"background-color: #FFFEFE\">time</span> <span style=\"background-color: #FFFCFC\">to</span> <span style=\"background-color: #FFFEFE\">join</span> <span style=\"background-color: #FFFEFE\">the</span> <span style=\"background-color: #FEFEFF\">business</span> <span style=\"background-color: #FFFEFE\">.</span> <span style=\"background-color: #FFFEFE\">key</span> <span style=\"background-color: #FFFCFC\">skills</span> <span style=\"background-color: #FFFCFC\">/</span> <span style=\"background-color: #FEFEFF\">experiences</span> <span style=\"background-color: #FFFEFE\">must</span> <span style=\"background-color: #FEFEFF\">have</span> <span style=\"background-color: #FFFCFC\">experience</span> <span style=\"background-color: #FEFEFF\">in</span> <span style=\"background-color: #FFE2E2\">delivering</span> <span style=\"background-color: #F6F6FF\">large</span> <span style=\"background-color: #F3F3FF\">energy</span> <span style=\"background-color: #FCFCFF\">from</span> <span style=\"background-color: #FFF8F8\">waste</span> <span style=\"background-color: #FFFEFE\">projects</span> <span style=\"background-color: #F8F8FF\">.</span> <span style=\"background-color: #FFFEFE\">background</span> <span style=\"background-color: #FEFEFF\">of</span> <span style=\"background-color: #FFFEFE\">working</span> <span style=\"background-color: #FFF8F8\">for</span> <span style=\"background-color: #FFFCFC\">large</span> <span style=\"background-color: #FFFEFE\">international</span> <span style=\"background-color: #FCFCFF\">epc</span> <span style=\"background-color: #FEFEFF\">/</span> <span style=\"background-color: #FCFCFF\">main</span> <span style=\"background-color: #FFFCFC\">contractors</span> <span style=\"background-color: #F8F8FF\">.</span> <span style=\"background-color: #FFFEFE\">experience</span> <span style=\"background-color: #FEFEFF\">of</span> <span style=\"background-color: #FEFEFF\">delivering</span> <span style=\"background-color: #FFFEFE\">construction</span> <span style=\"background-color: #FFFEFE\">projects</span> <span style=\"background-color: #FFFCFC\">in</span> <span style=\"background-color: #FEFEFF\">the</span> <span style=\"background-color: #FFFCFC\">uk</span> <span style=\"background-color: #FFFEFE\">.</span> <span style=\"background-color: #FFFEFE\">have</span> <span style=\"background-color: #FFFEFE\">excellent</span> <span style=\"background-color: #FFFEFE\">written</span> <span style=\"background-color: #FEFEFF\">and</span> <span style=\"background-color: #F2F2FF\">spoken</span> <span style=\"background-color: #FFFEFE\">english</span> <span style=\"background-color: #FFFEFE\">.</span> <span style=\"background-color: #FFFEFE\">must</span> <span style=\"background-color: #FEFEFF\">be</span> <span style=\"background-color: #FFFEFE\">degree</span> <span style=\"background-color: #FEFEFF\">qualified</span> <span style=\"background-color: #FEFEFF\">engineer</span> <span style=\"background-color: #FFFEFE\">;</span> <span style=\"background-color: #FFFEFE\">ideally</span> <span style=\"background-color: #FFFCFC\">also</span> <span style=\"background-color: #FFFCFC\">have</span> <span style=\"background-color: #FCFCFF\">msc</span> <span style=\"background-color: #FCFCFF\">or</span> <span style=\"background-color: #FEFEFF\">mba</span> <span style=\"background-color: #FCFCFF\">.</span> <span style=\"background-color: #FCFCFF\">previous</span> <span style=\"background-color: #FEFEFF\">experience</span> <span style=\"background-color: #FFFCFC\">of</span> <span style=\"background-color: #FFFAFA\">multidisciplinary</span> <span style=\"background-color: #FCFCFF\">project</span> <span style=\"background-color: #FEFEFF\">management</span> <span style=\"background-color: #FFFEFE\">at</span> <span style=\"background-color: #FEFEFF\">director</span> <span style=\"background-color: #FFFEFE\">level</span> <span style=\"background-color: #FFFEFE\">.</span> <span style=\"background-color: #FFFEFE\">a</span> <span style=\"background-color: #FFF8F8\">good</span> <span style=\"background-color: #FFFEFE\">knowledge</span> <span style=\"background-color: #FFFEFE\">of</span> <span style=\"background-color: #FEFEFF\">the</span> <span style=\"background-color: #FEFEFF\">european</span> <span style=\"background-color: #FFFCFC\">waste</span> <span style=\"background-color: #FEFEFF\">industry</span> <span style=\"background-color: #FFFEFE\">.</span> <span style=\"background-color: #FEFEFF\">any</span> <span style=\"background-color: #FFFEFE\">candidate</span> <span style=\"background-color: #FCFCFF\">considering</span> <span style=\"background-color: #FFFEFE\">this</span> <span style=\"background-color: #FFFEFE\">role</span> <span style=\"background-color: #FFFEFE\">will</span> <span style=\"background-color: #FFFEFE\">have</span> <span style=\"background-color: #FFFEFE\">to</span> <span style=\"background-color: #FEFEFF\">travel</span> <span style=\"background-color: #FFFEFE\">across</span> <span style=\"background-color: #FFFEFE\">the</span> <span style=\"background-color: #FFFEFE\">uk</span> <span style=\"background-color: #FEFEFF\">,</span> <span style=\"background-color: #FEFEFF\">location</span> <span style=\"background-color: #FFFEFE\">is</span> <span style=\"background-color: #FFFEFE\">not</span> <span style=\"background-color: #FEFEFF\">key</span> <span style=\"background-color: #FEFEFF\">but</span> <span style=\"background-color: #FEFEFF\">you</span> <span style=\"background-color: #FFFEFE\">will</span> <span style=\"background-color: #FFFEFE\">spend</span> <span style=\"background-color: #FEFEFF\">large</span> <span style=\"background-color: #FFFEFE\">parts</span> <span style=\"background-color: #FFFCFC\">of</span> <span style=\"background-color: #FFFEFE\">time</span> <span style=\"background-color: #FEFEFF\">away</span> <span style=\"background-color: #FFFEFE\">from</span> <span style=\"background-color: #FFFAFA\">home</span> <span style=\"background-color: #FEFEFF\">.</span> <span style=\"background-color: #FEFEFF\">please</span> <span style=\"background-color: #FFFEFE\">note</span> <span style=\"background-color: #FFFEFE\">that</span> <span style=\"background-color: #FFFEFE\">unless</span> <span style=\"background-color: #FFFEFE\">you</span> <span style=\"background-color: #FEFEFF\">meet</span> <span style=\"background-color: #FFFEFE\">the</span> <span style=\"background-color: #FEFEFF\">above</span> <span style=\"background-color: #FEFEFF\">criteria</span> <span style=\"background-color: #FFFAFA\">your</span> <span style=\"background-color: #FFFEFE\">UNK</span> <span style=\"background-color: #FEFEFF\">will</span> <span style=\"background-color: #FFFEFE\">not</span> <span style=\"background-color: #FEFEFF\">be</span> <span style=\"background-color: #FCFCFF\">taken</span> <span style=\"background-color: #FCFCFF\">further</span> <span style=\"background-color: #FEFEFF\">.</span> <span style=\"background-color: #FFF8F8\">this</span> <span style=\"background-color: #FFFCFC\">job</span> <span style=\"background-color: #FFFCFC\">was</span> <span style=\"background-color: #FEFEFF\">originally</span> <span style=\"background-color: #F8F8FF\">posted</span> <span style=\"background-color: #FCFCFF\">as</span> <span style=\"background-color: #FCFCFF\">www</span> <span style=\"background-color: #FEFEFF\">.</span> <span style=\"background-color: #F8F8FF\">careerstructure</span> <span style=\"background-color: #F3F3FF\">.</span> <span style=\"background-color: #FAFAFF\">com</span> <span style=\"background-color: #FFFEFE\">/</span> <span style=\"background-color: #FFF8F8\">jobseeking</span> <span style=\"background-color: #FFF2F2\">/</span> <span style=\"background-color: #FFFEFE\">UNK</span> <span style=\"background-color: #FCFCFF\">****</span></p>"
            ]
          },
          "metadata": {},
          "output_type": "display_data"
        }
      ],
      "source": [
        "i = np.random.randint(len(data))\n",
        "print(\"Index:\", i)\n",
        "print(\"Salary (gbp):\", np.expm1(model(make_batch(data.iloc[i: i+1], device=device)).detach().cpu()))\n",
        "\n",
        "tokens_and_weights = explain(model, data.loc[i], \"Title\")\n",
        "draw_html([(tok, weight * 5) for tok, weight in tokens_and_weights], font_style='font-size:20px;');\n",
        "\n",
        "tokens_and_weights = explain(model, data.loc[i], \"FullDescription\")\n",
        "draw_html([(tok, weight * 10) for tok, weight in tokens_and_weights]);"
      ]
    },
    {
      "cell_type": "code",
      "execution_count": null,
      "metadata": {},
      "outputs": [],
      "source": []
    }
  ],
  "metadata": {
    "accelerator": "GPU",
    "colab": {
      "collapsed_sections": [
        "4_1ac18pZYlZ"
      ],
      "gpuType": "T4",
      "provenance": []
    },
    "kernelspec": {
      "display_name": ".venv",
      "language": "python",
      "name": "python3"
    },
    "language_info": {
      "codemirror_mode": {
        "name": "ipython",
        "version": 3
      },
      "file_extension": ".py",
      "mimetype": "text/x-python",
      "name": "python",
      "nbconvert_exporter": "python",
      "pygments_lexer": "ipython3",
      "version": "3.11.9"
    }
  },
  "nbformat": 4,
  "nbformat_minor": 0
}
